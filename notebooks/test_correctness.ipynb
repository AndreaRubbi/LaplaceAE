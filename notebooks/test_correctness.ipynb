{
 "cells": [
  {
   "cell_type": "code",
   "execution_count": 1,
   "metadata": {},
   "outputs": [],
   "source": [
    "import torch\n",
    "from torch import nn\n",
    "import time\n",
    "import matplotlib.pyplot as plt\n",
    "import torch.nn.functional as F\n",
    "\n",
    "from asdfghjkl import batch_gradient\n",
    "from laplace.curvature.asdl import _get_batch_grad\n",
    "\n",
    "import sys\n",
    "\n",
    "sys.path.append(\"../stochman\")\n",
    "\n",
    "from stochman import nnj\n",
    "\n",
    "sys.path.append(\"../../Laplace\")\n",
    "from laplace.laplace import Laplace\n",
    "from torch.utils.data import DataLoader, TensorDataset\n"
   ]
  },
  {
   "cell_type": "code",
   "execution_count": 2,
   "metadata": {},
   "outputs": [],
   "source": [
    "def get_model(number_of_layers, device, data_resolution, conv=False):\n",
    "\n",
    "    if not conv:\n",
    "        model = [nn.Linear(data_resolution, data_resolution)]\n",
    "        for i in range(number_of_layers-1):\n",
    "            model += [nn.Tanh(), nn.Linear(data_resolution, data_resolution)]\n",
    "        model = nn.Sequential(*model).to(device)\n",
    "\n",
    "    else:\n",
    "        model = [nn.Conv2d(data_resolution, data_resolution, kernel_size=(3,3), padding=(1,1), stride=1, bias=False)]\n",
    "        for i in range(number_of_layers-1):\n",
    "            model += [nn.Tanh(), nn.Conv2d(data_resolution, data_resolution, kernel_size=(3,3), padding=(1,1), stride=1, bias=False)]\n",
    "        model = nn.Sequential(*model).to(device)    \n",
    "\n",
    "    return model\n",
    "\n",
    "def get_model_stochman(number_of_layers, device, data_resolution, conv=False):\n",
    "\n",
    "    if not conv:\n",
    "        model = [nnj.Linear(data_resolution, data_resolution)]\n",
    "        for i in range(number_of_layers-1):\n",
    "            model += [nnj.Tanh(), nnj.Linear(data_resolution, data_resolution)]\n",
    "        model = nn.Sequential(*model).to(device)\n",
    "    \n",
    "    else:\n",
    "        model = [nnj.Conv2d(data_resolution, data_resolution, kernel_size=(3,3), padding=(1,1), stride=1, bias=False)]\n",
    "        for i in range(number_of_layers-1):\n",
    "            model += [nnj.Tanh(), nnj.Conv2d(data_resolution, data_resolution, kernel_size=(3,3), padding=(1,1), stride=1, bias=False)]\n",
    "        model = nn.Sequential(*model).to(device)    \n",
    "        \n",
    "    return model\n",
    "\n",
    "def get_model_stochman2(number_of_layers, input_shape, device, conv=False):\n",
    "\n",
    "    if conv:\n",
    "        model = [nnj.Conv2d(input_shape[0], 1, kernel_size=(3,3), padding=(1,1), stride=1, bias=False),\n",
    "                nnj.Tanh(), \n",
    "                nnj.Upsample(scale_factor=2),\n",
    "                nnj.Conv2d(1, 1, kernel_size=(3,3), padding=(0,0), stride=1, bias=False),\n",
    "                nnj.Tanh(), \n",
    "                nnj.Conv2d(1, 1, kernel_size=(3,3), padding=(0,0), stride=1, bias=False)]\n",
    "    else:\n",
    "        model = [nnj.Linear(input_shape[0], 2*input_shape[0]),\n",
    "                nnj.Tanh(), \n",
    "                nnj.Linear(2*input_shape[0], 4*input_shape[0]),\n",
    "                nnj.Tanh(), \n",
    "                nnj.Linear(4*input_shape[0], 3*input_shape[0])]\n",
    "\n",
    "    model = nn.Sequential(*model).to(device)    \n",
    "        \n",
    "    return model"
   ]
  },
  {
   "cell_type": "code",
   "execution_count": 3,
   "metadata": {},
   "outputs": [],
   "source": [
    "def jacobians(x, model, output_size=784):\n",
    "    jacobians = list()\n",
    "    f = None\n",
    "    for i in range(output_size):\n",
    "        def loss_fn(outputs, targets):\n",
    "            return outputs[:, i].sum()\n",
    "\n",
    "        f = batch_gradient(model, loss_fn, x, None).detach()\n",
    "        jacobian_i = _get_batch_grad(model)\n",
    "\n",
    "        jacobians.append(jacobian_i)\n",
    "    jacobians = torch.stack(jacobians, dim=1)\n",
    "    return jacobians, f\n",
    "\n",
    "def jacobians_conv(x, model, output_shape=(2,8,8)):\n",
    "    jacobians = list()\n",
    "    f = None\n",
    "    for c in range(output_shape[0]):\n",
    "        for h in range(output_shape[1]):\n",
    "            for w in range(output_shape[2]):\n",
    "                def loss_fn(outputs, targets):\n",
    "                    return outputs[:, c, h, w].sum()\n",
    "\n",
    "                f = batch_gradient(model, loss_fn, x, None).detach()\n",
    "                jacobian_i = _get_batch_grad(model)\n",
    "\n",
    "                jacobians.append(jacobian_i)\n",
    "    jacobians = torch.stack(jacobians, dim=1)\n",
    "    return jacobians, f\n",
    "    \n",
    "def run_row(x, output_shape, model, conv=False):\n",
    "\n",
    "    t0 = time.perf_counter()\n",
    "    if not conv:\n",
    "        Js_row, _ = jacobians(x, model, output_size=output_shape[0])      \n",
    "    else:\n",
    "        Js_row, _ = jacobians_conv(x, model, output_shape=output_shape)        \n",
    "    Hs_row = torch.einsum(\"nji,njk->nik\", Js_row, Js_row)\n",
    "    elapsed_row = time.perf_counter() - t0\n",
    "    #print(Js_row.shape, Hs_row.shape)\n",
    "\n",
    "    return Hs_row.detach().cpu(), elapsed_row\n"
   ]
  },
  {
   "cell_type": "code",
   "execution_count": 4,
   "metadata": {},
   "outputs": [],
   "source": [
    "def run_laplace(x, data_resolution, model, conv=False, number_of_layers=0, device=None):\n",
    "\n",
    "    nn_model = get_model(number_of_layers, device, data_resolution, conv=conv)\n",
    "    for nn_layer, nnj_layer in zip(nn_model, model):\n",
    "        if hasattr(nn_layer,'weight'):\n",
    "            nn_layer.weight = nnj_layer.weight\n",
    "        if hasattr(nn_layer,'bias'):\n",
    "            nn_layer.bias = nnj_layer.bias\n",
    "\n",
    "    t0 = time.perf_counter()\n",
    "    dataset = TensorDataset(x, x)\n",
    "    dataloader = DataLoader(dataset, batch_size=32)\n",
    "    la = Laplace(\n",
    "        nn_model,\n",
    "        \"regression\",\n",
    "        hessian_structure=\"diag\",\n",
    "        subset_of_weights=\"all\",\n",
    "    )\n",
    "    la.fit(dataloader)\n",
    "    elapsed_la = time.perf_counter() - t0\n",
    "\n",
    "    return la.H.detach().cpu(), elapsed_la"
   ]
  },
  {
   "cell_type": "code",
   "execution_count": 5,
   "metadata": {},
   "outputs": [],
   "source": [
    "def run_layer(x, output_shape, model, conv=False):\n",
    "    t0 = time.perf_counter()\n",
    "\n",
    "    bs = x.shape[0]\n",
    "    H = []\n",
    "\n",
    "    feature_maps = []\n",
    "\n",
    "    def fw_hook_get_latent(module, input, output):\n",
    "        feature_maps.append(output.detach())\n",
    "\n",
    "    for k in range(len(model)):\n",
    "        model[k].register_forward_hook(fw_hook_get_latent)\n",
    "\n",
    "    model(x)\n",
    "    feature_maps = [x] + feature_maps\n",
    "    if conv:\n",
    "        tmp = torch.diag_embed(torch.ones(output_shape[0]*output_shape[1]*output_shape[2], device=x.device)).expand(bs,-1,-1)\n",
    "    else:\n",
    "        tmp = torch.diag_embed(torch.ones(output_shape, device=x.device)).expand(bs,-1,-1)\n",
    "\n",
    "    with torch.no_grad():\n",
    "        for k in range(len(model) - 1, -1, -1):\n",
    "\n",
    "            # jacobian w.r.t weight\n",
    "            h_k = model[k]._jacobian_wrt_weight_sandwich(\n",
    "                feature_maps[k],\n",
    "                feature_maps[k + 1],\n",
    "                tmp,\n",
    "                diag=False,\n",
    "            )\n",
    "            if h_k is not None:\n",
    "                H = [h_k.sum(dim=0)] + H\n",
    "                print(f\"hessian for layer {k} has shape {h_k.shape}\")\n",
    "            \n",
    "            # jacobian w.r.t input\n",
    "            tmp = model[k]._jacobian_wrt_input_sandwich(\n",
    "                feature_maps[k],\n",
    "                feature_maps[k + 1],\n",
    "                tmp,\n",
    "                diag=False,\n",
    "            )\n",
    "    #H = torch.cat(H, dim=0).detach().cpu()\n",
    "    H = [H_layer.detach().cpu() for H_layer in H]\n",
    "\n",
    "    elapsed_layer = time.perf_counter() - t0\n",
    "    return H, elapsed_layer"
   ]
  },
  {
   "cell_type": "markdown",
   "metadata": {},
   "source": [
    "# Compute and check results"
   ]
  },
  {
   "cell_type": "code",
   "execution_count": 6,
   "metadata": {},
   "outputs": [],
   "source": [
    "def compute_hessians(number_of_layers=5, data_shape=(2,3,5,5), convolutions=True):\n",
    "    batch_size, input_shape = data_shape[0], data_shape[1:]\n",
    "\n",
    "    if convolutions:\n",
    "        #channel, height, width = input_shape\n",
    "        data = torch.randint(1,10,(batch_size,input_shape[0],input_shape[1],input_shape[2])).float()\n",
    "    else:\n",
    "        input_size = input_shape[0]\n",
    "        data = torch.randint(1,10,(batch_size,input_size)).float()\n",
    "\n",
    "    device = \"cuda:0\" if torch.cuda.is_available() else \"cpu\"\n",
    "    model = get_model_stochman2(number_of_layers, input_shape, device, conv=convolutions)\n",
    "\n",
    "    output_shape = model(data).shape[1:]\n",
    "    print(f\"input shape: {data_shape[1:]}, output shape: {output_shape}, batch size: {data_shape[0]}\")\n",
    "\n",
    "    Hs_row, t_row = run_row(data, output_shape, model, conv=convolutions)\n",
    "    Hs_row = Hs_row.sum(dim=0) #sum over batch size\n",
    "\n",
    "    Hs_layer, t_layer = run_layer(data, output_shape, model, conv=convolutions)\n",
    "    \n",
    "    #if do_laplace:\n",
    "    #    Hs_laplace, t_laplace = run_laplace(data, data_resolution, model, conv=convolutions,\n",
    "    #                                        number_of_layers=number_of_layers, device=device)\n",
    "    #else:\n",
    "    #    Hs_laplace, t_laplace = None, None\n",
    "\n",
    "    return Hs_row, t_row, Hs_layer, t_layer #, Hs_laplace, t_laplace\n",
    "\n"
   ]
  },
  {
   "cell_type": "code",
   "execution_count": 7,
   "metadata": {},
   "outputs": [],
   "source": [
    "def check_correctness(number_of_layers=5, data_shape=(2,3,5,5), convolutions=True, plot=True):\n",
    "    Hs_row, t_row, Hs_layer, t_layer = compute_hessians(number_of_layers = number_of_layers, \n",
    "                                                        data_shape = data_shape, \n",
    "                                                        convolutions = convolutions)\n",
    "\n",
    "    assert number_of_layers == len(Hs_layer)\n",
    "    print(f\"Times \\n -row method: {t_row}\\n -layer method: {t_layer}\")\n",
    "    \n",
    "    if convolutions:\n",
    "        if number_of_layers==1:\n",
    "            print('Error max abs value:', torch.max(torch.abs(Hs_row - Hs_layer[0])) )\n",
    "            if plot:\n",
    "                plt.figure()\n",
    "                plt.imshow(Hs_row.numpy())\n",
    "                plt.title('Row by row method')\n",
    "                plt.figure()\n",
    "                plt.imshow(Hs_layer[0].numpy())\n",
    "                plt.title('Layer by layer method')\n",
    "        else:\n",
    "            tot_w = 0\n",
    "            Hs_row_block_diagonal = []\n",
    "            for l in range(number_of_layers):\n",
    "                block_Hs_layer = Hs_layer[l] \n",
    "                this_w = block_Hs_layer.shape[0]\n",
    "                block_Hs_row = Hs_row[tot_w:tot_w+this_w, tot_w:tot_w+this_w] \n",
    "                tot_w += this_w\n",
    "                print('Error max abs value on layer',l,':', torch.max(torch.abs(block_Hs_row - block_Hs_layer)) )\n",
    "                Hs_row_block_diagonal.append(block_Hs_row)\n",
    "            if plot:\n",
    "                plt.figure()\n",
    "                plt.imshow(Hs_row.numpy())\n",
    "                plt.title('Row by row method (full)')\n",
    "                plt.figure()\n",
    "                for l in range(number_of_layers):\n",
    "                    plt.subplot(1,number_of_layers,l+1)\n",
    "                    plt.title('layer'+str(l))\n",
    "                    plt.imshow(Hs_row_block_diagonal[l].numpy())\n",
    "                plt.suptitle('Row by row method (diagonal blocks)')\n",
    "                plt.figure()\n",
    "                for l in range(number_of_layers):\n",
    "                    plt.subplot(1,number_of_layers,l+1)\n",
    "                    plt.title('layer'+str(l))\n",
    "                    plt.imshow(Hs_layer[l].numpy())\n",
    "                plt.suptitle('Layer by layer method (diagonal blocks)')\n",
    "        \n",
    "    else:\n",
    "        Hs_layer = torch.cat(Hs_layer, dim=0)\n",
    "        print('Error max abs value (ours):', torch.max(torch.abs( Hs_layer - torch.diagonal(Hs_row) )) )"
   ]
  },
  {
   "cell_type": "code",
   "execution_count": 8,
   "metadata": {},
   "outputs": [
    {
     "name": "stdout",
     "output_type": "stream",
     "text": [
      "input shape: (10,), output shape: torch.Size([30]), batch size: 2\n",
      "hessian for layer 4 has shape torch.Size([2, 1230])\n",
      "hessian for layer 2 has shape torch.Size([2, 840])\n",
      "hessian for layer 0 has shape torch.Size([2, 220])\n",
      "Times \n",
      " -row method: 0.037242291000438854\n",
      " -layer method: 0.002315004006959498\n",
      "Error max abs value (ours): tensor(1.6689e-06)\n"
     ]
    }
   ],
   "source": [
    "check_correctness(number_of_layers = 3, \n",
    "                  data_shape=(2,10), \n",
    "                  convolutions = False, \n",
    "                  plot = True)"
   ]
  },
  {
   "cell_type": "code",
   "execution_count": 9,
   "metadata": {},
   "outputs": [
    {
     "name": "stdout",
     "output_type": "stream",
     "text": [
      "input shape: (1, 10, 10), output shape: torch.Size([1, 16, 16]), batch size: 2\n",
      "hessian for layer 5 has shape torch.Size([2, 9, 9])\n",
      "hessian for layer 3 has shape torch.Size([2, 9, 9])\n",
      "hessian for layer 0 has shape torch.Size([2, 9, 9])\n",
      "Times \n",
      " -row method: 0.44775875701452605\n",
      " -layer method: 0.028509919997304678\n",
      "Error max abs value on layer 0 : tensor(2.2888e-05)\n",
      "Error max abs value on layer 1 : tensor(3.0518e-05)\n",
      "Error max abs value on layer 2 : tensor(3.8147e-06)\n"
     ]
    },
    {
     "data": {
      "image/png": "[encoded data removed]",
      "text/plain": [
       "<Figure size 432x288 with 1 Axes>"
      ]
     },
     "metadata": {
      "needs_background": "light"
     },
     "output_type": "display_data"
    },
    {
     "data": {
      "image/png": "[encoded data removed]",
      "text/plain": [
       "<Figure size 432x288 with 3 Axes>"
      ]
     },
     "metadata": {
      "needs_background": "light"
     },
     "output_type": "display_data"
    },
    {
     "data": {
      "image/png": "[encoded data removed]",
      "text/plain": [
       "<Figure size 432x288 with 3 Axes>"
      ]
     },
     "metadata": {
      "needs_background": "light"
     },
     "output_type": "display_data"
    }
   ],
   "source": [
    "check_correctness(number_of_layers = 3, \n",
    "                  data_shape=(2,1,10,10), \n",
    "                  convolutions = True, \n",
    "                  plot = True)"
   ]
  }
 ],
 "metadata": {
  "interpreter": {
   "hash": "5e16edc4df7b202951e9e3c113e27071ab15724ce07cdee44fb794505e05de3d"
  },
  "kernelspec": {
   "display_name": "Python 3.8.5 ('pytorch')",
   "language": "python",
   "name": "python3"
  },
  "language_info": {
   "codemirror_mode": {
    "name": "ipython",
    "version": 3
   },
   "file_extension": ".py",
   "mimetype": "text/x-python",
   "name": "python",
   "nbconvert_exporter": "python",
   "pygments_lexer": "ipython3",
   "version": "3.8.12"
  },
  "orig_nbformat": 4
 },
 "nbformat": 4,
 "nbformat_minor": 2
}

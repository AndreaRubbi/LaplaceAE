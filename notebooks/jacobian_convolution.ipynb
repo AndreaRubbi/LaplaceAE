{
 "cells": [
  {
   "cell_type": "code",
   "execution_count": 12,
   "id": "4d19c28a",
   "metadata": {},
   "outputs": [],
   "source": [
    "import torch\n",
    "import matplotlib.pyplot as plt\n",
    "import torch.nn.functional as F\n",
    "\n",
    "import sys\n",
    "\n",
    "sys.path.append(\"../stochman/\")\n",
    "\n",
    "from stochman import nnj"
   ]
  },
  {
   "cell_type": "markdown",
   "id": "6c7f4c39",
   "metadata": {},
   "source": [
    "# Define conv parameters"
   ]
  },
  {
   "cell_type": "code",
   "execution_count": 13,
   "id": "8d2cf76d",
   "metadata": {},
   "outputs": [
    {
     "name": "stdout",
     "output_type": "stream",
     "text": [
      "input size N= 6 6 True\n",
      "output size M= 4.0 4 True\n"
     ]
    }
   ],
   "source": [
    "# Set parameters (free to change)\n",
    "\n",
    "N = 6 #input edge\n",
    "kernel_size = 3\n",
    "padding = 0\n",
    "stride = 1 #don't change me please, bad things will happen\n",
    "dilation = 1\n",
    "\n",
    "##############################################################################\n",
    "#compute input/output shapes\n",
    "\n",
    "M = ( N - dilation*(kernel_size-1) + 2*padding -1 )/stride +1 #output edge before integer\n",
    "int_M = int(M)\n",
    "output_padding = N - ((int_M-1)*stride - 2*padding + dilation*(kernel_size-1) + 1) ##### GOLD LINE ######\n",
    "int_N = (int_M-1)*stride - 2*padding + dilation*(kernel_size-1) + output_padding + 1\n",
    "print('input size N=',N, int_N, N==int_N)\n",
    "print('output size M=',M,int_M, M==int_M)\n",
    "\n",
    "M=int_M #output edge\n",
    "W = kernel_size"
   ]
  },
  {
   "cell_type": "markdown",
   "id": "1d9ed139",
   "metadata": {},
   "source": [
    "Define convolution layer and its transposed"
   ]
  },
  {
   "cell_type": "code",
   "execution_count": 14,
   "id": "fd613cbc",
   "metadata": {},
   "outputs": [],
   "source": [
    "# Define regular layer\n",
    "conv = nnj.Conv2d(1,1,kernel_size=kernel_size,padding=padding,stride=stride,dilation=dilation, bias=None)\n",
    "weights = conv.weight[0,0].detach().numpy()\n",
    "\n",
    "# Define transposed\n",
    "conv_transpose = nnj.ConvTranspose2d(1,1,kernel_size=kernel_size,padding=padding,stride=stride,dilation=dilation, output_padding=output_padding, bias=None)\n",
    "conv_transpose.weight = conv.weight"
   ]
  },
  {
   "cell_type": "markdown",
   "id": "ff7f96d0",
   "metadata": {},
   "source": [
    "Set input and generate output"
   ]
  },
  {
   "cell_type": "code",
   "execution_count": 15,
   "id": "69393dba",
   "metadata": {},
   "outputs": [],
   "source": [
    "# Define input\n",
    "tmp = torch.randint(0, 10, (1, N, N)).type(torch.float)\n",
    "input = tmp.unsqueeze(0).type(torch.float)\n",
    "# Compute output\n",
    "output = conv(input)"
   ]
  },
  {
   "cell_type": "markdown",
   "id": "fff5bdf3",
   "metadata": {},
   "source": [
    "Define the same convolution and transposed, but with weights as argument"
   ]
  },
  {
   "cell_type": "code",
   "execution_count": 16,
   "id": "c1af2322",
   "metadata": {},
   "outputs": [],
   "source": [
    "# Define reversed conv (for jac wrt weights)\n",
    "dw_padding = W - 1 - padding\n",
    "conv_dw = nnj.ConvTranspose2d(1,1,kernel_size=kernel_size,padding=dw_padding,stride=stride,dilation=dilation, output_padding=0, bias=None)\n",
    "#   - the new input is the old weight\n",
    "dw_input = torch.tensor(weights).unsqueeze(0).unsqueeze(0).type(torch.float)\n",
    "#   - the new weights are the reversed of the old input\n",
    "reversed_input = torch.zeros_like(input)\n",
    "for i in range(N):\n",
    "    for j in range(N):\n",
    "        reversed_input[0,0,i,j] = input[0,0,N-i-1,N-j-1]\n",
    "conv_dw.weight = torch.nn.Parameter(reversed_input)\n",
    "\n",
    "#Define trasposed of reversed conv\n",
    "conv_dw_transposed = nnj.Conv2d(1,1,kernel_size=kernel_size,padding=dw_padding,stride=stride,dilation=dilation, bias=None)\n",
    "conv_dw_transposed.weight = torch.nn.Parameter(reversed_input)"
   ]
  },
  {
   "cell_type": "markdown",
   "id": "e03c0de5",
   "metadata": {},
   "source": [
    "Asses that \"conv\" and \"conv_dw\" actually encode the same function"
   ]
  },
  {
   "cell_type": "code",
   "execution_count": 17,
   "id": "c9bedef5",
   "metadata": {},
   "outputs": [
    {
     "data": {
      "text/plain": [
       "Text(0.5, 0.98, 'Conv2d')"
      ]
     },
     "execution_count": 17,
     "metadata": {},
     "output_type": "execute_result"
    },
    {
     "data": {
      "image/png": "[encoded data removed]",
      "text/plain": [
       "<Figure size 504x288 with 2 Axes>"
      ]
     },
     "metadata": {
      "needs_background": "light"
     },
     "output_type": "display_data"
    }
   ],
   "source": [
    "dw_output = conv_dw(dw_input)\n",
    "reversed_dw_output = torch.zeros_like(dw_output)\n",
    "for i in range(M):\n",
    "    for j in range(M):\n",
    "        reversed_dw_output[0,0,i,j] = dw_output[0,0,M-i-1,M-j-1]\n",
    "\n",
    "plt.figure(figsize=(7,4))\n",
    "plt.subplot(1,2,1)\n",
    "plt.title('Output with weights as input')\n",
    "plt.imshow(reversed_dw_output[0,0].detach().numpy())\n",
    "plt.subplot(1,2,2)\n",
    "plt.title('Output with true-input as input')\n",
    "plt.imshow(output[0,0].detach().numpy())\n",
    "plt.suptitle('Conv2d')\n",
    "#diff = reversed_dw_output[0,0] - output[0,0]\n",
    "#print(diff)\n",
    "\n",
    "#plots should be equal"
   ]
  },
  {
   "cell_type": "markdown",
   "id": "287d7e9d",
   "metadata": {},
   "source": [
    "# Jacobian of conv (wrt. input)"
   ]
  },
  {
   "cell_type": "code",
   "execution_count": 18,
   "id": "0df86123",
   "metadata": {},
   "outputs": [
    {
     "data": {
      "text/plain": [
       "<matplotlib.image.AxesImage at 0x7f59bf3d6610>"
      ]
     },
     "execution_count": 18,
     "metadata": {},
     "output_type": "execute_result"
    },
    {
     "data": {
      "image/png": "[encoded data removed]",
      "text/plain": [
       "<Figure size 432x288 with 1 Axes>"
      ]
     },
     "metadata": {
      "needs_background": "light"
     },
     "output_type": "display_data"
    }
   ],
   "source": [
    "print_each_column_computation = False\n",
    "\n",
    "# N*N = number of inputs\n",
    "# M*M = number of ouputs\n",
    "\n",
    "full_jacobian = torch.zeros(M*M,N*N)\n",
    "for i in range(N):\n",
    "    for j in range(N):\n",
    "        # define base element\n",
    "        jac_in = torch.zeros(1,1,N,N).type(torch.float)\n",
    "        jac_in[0,0,i,j] = 1\n",
    "\n",
    "        # compute a column of full_jacobian by conv(base_element)\n",
    "        jacobian = conv._jacobian_mult(input, output, jac_in)\n",
    "\n",
    "        # store the image returned by conv as a column vector\n",
    "        col = N*i+j\n",
    "        for k in range(M):\n",
    "            for q in range(M):\n",
    "                row = M*k+q\n",
    "                full_jacobian[row,col] = jacobian[0,0,k,q]\n",
    "\n",
    "        if print_each_column_computation:\n",
    "            plt.figure(figsize=(6,3))\n",
    "            plt.subplot(1,4,1)\n",
    "            plt.imshow(jac_in[0,0].detach().numpy())\n",
    "            plt.subplot(1,4,2)\n",
    "            plt.imshow(jacobian[0,0].detach().numpy())\n",
    "            plt.show()\n",
    "\n",
    "plt.imshow(full_jacobian.detach().numpy())"
   ]
  },
  {
   "cell_type": "markdown",
   "id": "3240d30e",
   "metadata": {},
   "source": [
    "# Jacobian of conv (wrt. input) transposed"
   ]
  },
  {
   "cell_type": "code",
   "execution_count": 19,
   "id": "80ac48cc",
   "metadata": {},
   "outputs": [
    {
     "data": {
      "text/plain": [
       "<matplotlib.image.AxesImage at 0x7f59bf32adc0>"
      ]
     },
     "execution_count": 19,
     "metadata": {},
     "output_type": "execute_result"
    },
    {
     "data": {
      "image/png": "[encoded data removed]",
      "text/plain": [
       "<Figure size 432x288 with 1 Axes>"
      ]
     },
     "metadata": {
      "needs_background": "light"
     },
     "output_type": "display_data"
    }
   ],
   "source": [
    "full_jacobianT = torch.zeros(N*N,M*M)\n",
    "for i in range(M):\n",
    "    for j in range(M):\n",
    "        jac_in = torch.zeros(1,1,M,M).type(torch.float)\n",
    "        jac_in[0,0,i,j] = 1\n",
    "\n",
    "        #same as before, but with \"conv_transpose\" and changing output/input\n",
    "        jacobian = conv_transpose._jacobian_mult(output, input, jac_in)\n",
    "\n",
    "        col = M*i+j\n",
    "        for k in range(N):\n",
    "            for q in range(N):\n",
    "                row = N*k+q\n",
    "                full_jacobianT[row,col] = jacobian[0,0,k,q]\n",
    "\n",
    "        if print_each_column_computation:\n",
    "            plt.figure(figsize=(6,3))\n",
    "            plt.subplot(1,4,1)\n",
    "            plt.imshow(jac_in[0,0].detach().numpy())\n",
    "            plt.subplot(1,4,2)\n",
    "            plt.imshow(jacobian[0,0].detach().numpy())\n",
    "            plt.show()\n",
    "\n",
    "plt.imshow(full_jacobianT.detach().numpy())"
   ]
  },
  {
   "cell_type": "markdown",
   "id": "6234d92b",
   "metadata": {},
   "source": [
    "# Jacobian of conv (wrt. weights)"
   ]
  },
  {
   "cell_type": "code",
   "execution_count": 20,
   "id": "b9f5c216",
   "metadata": {},
   "outputs": [
    {
     "data": {
      "text/plain": [
       "<matplotlib.image.AxesImage at 0x7f59bf302df0>"
      ]
     },
     "execution_count": 20,
     "metadata": {},
     "output_type": "execute_result"
    },
    {
     "data": {
      "image/png": "[encoded data removed]",
      "text/plain": [
       "<Figure size 432x288 with 1 Axes>"
      ]
     },
     "metadata": {
      "needs_background": "light"
     },
     "output_type": "display_data"
    }
   ],
   "source": [
    "# N*N = number of inputs\n",
    "# M*M = number of ouputs\n",
    "# W*W = number of weights\n",
    "\n",
    "full_jacobian_dw = torch.zeros(M*M,W*W)\n",
    "\n",
    "for i in range(W):\n",
    "    for j in range(W):\n",
    "        jac_in = torch.zeros(1,1,W,W).type(torch.float)\n",
    "        jac_in[0,0,i,j] = 1\n",
    "\n",
    "        jacobian = conv_dw._jacobian_mult(dw_input, dw_output, jac_in)\n",
    "        #reversed_jac = torch.zeros_like(jacobian)\n",
    "        #for k in range(W):\n",
    "        #    for q in range(W):\n",
    "        #        reversed_jac[0,0,k,q] = jacobian[0,0,W-k-1,W-q-1]\n",
    "        #jacobian = reversed_jac\n",
    "\n",
    "        #col = W*W - (W*i+j) - 1 #WRONG! DON'T DO I, must flip on rows, not columns\n",
    "        col = W*i+j\n",
    "        for k in range(M):\n",
    "            for q in range(M):\n",
    "                row = -(M*k+q) - 1 #flip on rows\n",
    "                full_jacobian_dw[row, col] = jacobian[0,0,k,q]\n",
    "\n",
    "        if print_each_column_computation:\n",
    "            plt.figure(figsize=(6,3))\n",
    "            plt.subplot(1,4,1)\n",
    "            plt.imshow(jac_in[0,0].detach().numpy())\n",
    "            plt.subplot(1,4,2)\n",
    "            plt.imshow(jacobian[0,0].detach().numpy())\n",
    "            plt.show()\n",
    "\n",
    "plt.imshow(full_jacobian_dw.detach().numpy())"
   ]
  },
  {
   "cell_type": "code",
   "execution_count": 21,
   "id": "826cfa0a",
   "metadata": {},
   "outputs": [
    {
     "data": {
      "text/plain": [
       "<matplotlib.image.AxesImage at 0x7f59bf2df520>"
      ]
     },
     "execution_count": 21,
     "metadata": {},
     "output_type": "execute_result"
    },
    {
     "data": {
      "image/png": "[encoded data removed]",
      "text/plain": [
       "<Figure size 432x288 with 1 Axes>"
      ]
     },
     "metadata": {
      "needs_background": "light"
     },
     "output_type": "display_data"
    }
   ],
   "source": [
    "full_jacobian_dw_T = torch.zeros(W*W,M*M)\n",
    "for i in range(M):\n",
    "    for j in range(M):\n",
    "        jac_in = torch.zeros(1,1,M,M).type(torch.float)\n",
    "        jac_in[0,0,i,j] = 1\n",
    "\n",
    "        jacobian = conv_dw_transposed._jacobian_mult(dw_output, dw_input, jac_in)\n",
    "\n",
    "        col = (M*M) - (M*i+j) - 1\n",
    "        for k in range(W):\n",
    "            for q in range(W):\n",
    "                row = W*k+q\n",
    "                full_jacobian_dw_T[row,col] = jacobian[0,0,k,q]\n",
    "\n",
    "        if print_each_column_computation:\n",
    "            plt.figure(figsize=(6,3))\n",
    "            plt.subplot(1,4,1)\n",
    "            plt.imshow(jac_in[0,0].detach().numpy())\n",
    "            plt.subplot(1,4,2)\n",
    "            plt.imshow(jacobian[0,0].detach().numpy())\n",
    "            plt.show()\n",
    "\n",
    "plt.imshow(full_jacobian_dw_T.detach().numpy())"
   ]
  },
  {
   "cell_type": "markdown",
   "id": "c45bcba9",
   "metadata": {},
   "source": [
    "# Assess jacobian wrt weights comparing to row-by-row computation (single layer NN, for now)"
   ]
  },
  {
   "cell_type": "code",
   "execution_count": 22,
   "id": "2bb0cb4d",
   "metadata": {},
   "outputs": [
    {
     "data": {
      "text/plain": [
       "<matplotlib.image.AxesImage at 0x7f59bf1f7340>"
      ]
     },
     "execution_count": 22,
     "metadata": {},
     "output_type": "execute_result"
    },
    {
     "data": {
      "image/png": "[encoded data removed]",
      "text/plain": [
       "<Figure size 720x360 with 2 Axes>"
      ]
     },
     "metadata": {
      "needs_background": "light"
     },
     "output_type": "display_data"
    }
   ],
   "source": [
    "from asdfghjkl.gradient import batch_gradient\n",
    "\n",
    "def _flatten_after_batch(tensor: torch.Tensor):\n",
    "    if tensor.ndim == 1:\n",
    "        return tensor.unsqueeze(-1)\n",
    "    else:\n",
    "        return tensor.flatten(start_dim=1)\n",
    "        \n",
    "def _get_batch_grad(model):\n",
    "    batch_grads = list()\n",
    "    for module in model.modules():\n",
    "        if hasattr(module, 'op_results'):\n",
    "            res = module.op_results['batch_grads']\n",
    "            if 'weight' in res:\n",
    "                batch_grads.append(_flatten_after_batch(res['weight']))\n",
    "            if 'bias' in res:\n",
    "                batch_grads.append(_flatten_after_batch(res['bias']))\n",
    "            if len(set(res.keys()) - {'weight', 'bias'}) > 0:\n",
    "                raise ValueError(f'Invalid parameter keys {res.keys()}')\n",
    "    return torch.cat(batch_grads, dim=1)\n",
    "\n",
    "'''def batch_gradient(model, loss_fn, inputs, targets):\n",
    "    with extend(model, OP_BATCH_GRADS):\n",
    "        model.zero_grad()\n",
    "        f = model(inputs)\n",
    "        loss = loss_fn(f, targets)\n",
    "        loss.backward()\n",
    "    return f'''\n",
    "    \n",
    "def jacobians(x, model, output_size=784):\n",
    "    \"\"\"Compute Jacobians \\\\(\\\\nabla_\\\\theta f(x;\\\\theta)\\\\) at current parameter \\\\(\\\\theta\\\\)\n",
    "    using asdfghjkl's gradient per output dimension.\n",
    "    Parameters\n",
    "    ----------\n",
    "    x : torch.Tensor\n",
    "        input data `(batch, input_shape)` on compatible device with model.\n",
    "    Returns\n",
    "    -------\n",
    "    Js : torch.Tensor\n",
    "        Jacobians `(batch, parameters, outputs)`\n",
    "    f : torch.Tensor\n",
    "        output function `(batch, outputs)`\n",
    "    \"\"\"\n",
    "    Js = list()\n",
    "    for i in range(output_size):\n",
    "        for j in range(output_size):\n",
    "            def loss_fn(outputs, targets):\n",
    "                return outputs[:, 0, i, j].sum()\n",
    "\n",
    "            f = batch_gradient(model, loss_fn, x, None).detach()\n",
    "            Jk = _get_batch_grad(model)\n",
    "\n",
    "            Js.append(Jk)\n",
    "    Js = torch.stack(Js, dim=1)\n",
    "\n",
    "    return Js, f\n",
    "\n",
    "conv = nnj.Conv2d(1,1,kernel_size=kernel_size,padding=padding,stride=stride,dilation=dilation, bias=None)\n",
    "Js, _ = jacobians(input, conv, output_size=M)\n",
    "\n",
    "\n",
    "plt.figure(figsize=(10,5))\n",
    "plt.subplot(1,2,1)\n",
    "plt.title('Computed layer-by-layer')\n",
    "plt.imshow(full_jacobian_dw.detach().numpy())\n",
    "plt.subplot(1,2,2)\n",
    "plt.title('Computed row-by-row')\n",
    "plt.imshow(Js[0].detach().numpy())"
   ]
  }
 ],
 "metadata": {
  "kernelspec": {
   "display_name": "Python 3 (ipykernel)",
   "language": "python",
   "name": "python3"
  },
  "language_info": {
   "codemirror_mode": {
    "name": "ipython",
    "version": 3
   },
   "file_extension": ".py",
   "mimetype": "text/x-python",
   "name": "python",
   "nbconvert_exporter": "python",
   "pygments_lexer": "ipython3",
   "version": "3.8.12"
  }
 },
 "nbformat": 4,
 "nbformat_minor": 5
}

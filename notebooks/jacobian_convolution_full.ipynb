{
 "cells": [
  {
   "cell_type": "code",
   "execution_count": 1,
   "id": "4d19c28a",
   "metadata": {},
   "outputs": [],
   "source": [
    "import torch\n",
    "import matplotlib.pyplot as plt\n",
    "import torch.nn.functional as F\n",
    "\n",
    "import sys\n",
    "\n",
    "sys.path.append(\"../stochman/\")\n",
    "\n",
    "from stochman import nnj"
   ]
  },
  {
   "cell_type": "markdown",
   "id": "6c7f4c39",
   "metadata": {},
   "source": [
    "# Define convolution parameters"
   ]
  },
  {
   "cell_type": "code",
   "execution_count": 2,
   "id": "8d2cf76d",
   "metadata": {},
   "outputs": [
    {
     "data": {
      "text/plain": [
       "\"\\ndef compute_output_edge(input_edge, kernel_size=1,padding=0,stride=1,dilation=1):\\n    output_edge = ( input_edge - dilation*(kernel_size-1) + 2*padding -1 )/stride +1 #output edge can be not-integer if stride!=1\\n    return int(output_edge)\\ndef compute_output_padding(input_edge, output_edge, kernel_size=1,padding=0,stride=1,dilation=1):\\n    return input_edge - ((output_edge-1)*stride - 2*padding + dilation*(kernel_size-1) + 1)\\ndef compute_reversed_padding(padding, kernel_size=1):\\n    return kernel_size - 1 - padding\\n##############################################################################\\n##############################################################################\\n##############################################################################\\n# Set parameters (free to change)\\n\\nbatch_size = 2\\nIN_c, OUT_c = 2, 2 #number of channels (for input and output)\\nIN_h, IN_w = 5, 5 #number of pixels per input edges\\nkernel_size = 3\\npadding = 1\\nstride = 1 #don't change me please, bad things will happen\\ndilation = 1\\n\\n##############################################################################\\n# Compute output sizes\\nOUT_h, OUT_w = compute_output_edge(IN_h, kernel_size=kernel_size,padding=padding,stride=stride,dilation=dilation), compute_output_edge(IN_w, kernel_size=kernel_size,padding=padding,stride=stride,dilation=dilation)\\n# Compute output padding for conv transpose\\nassert compute_output_padding(IN_h, OUT_h, kernel_size=kernel_size,padding=padding,stride=stride,dilation=dilation) == compute_output_padding(IN_w, OUT_w, kernel_size=kernel_size,padding=padding,stride=stride,dilation=dilation)\\noutput_padding = compute_output_padding(IN_h, OUT_h, kernel_size=kernel_size,padding=padding,stride=stride,dilation=dilation)\\ndw_padding = compute_reversed_padding(padding, kernel_size=kernel_size)\\ndw_reversed_padding = compute_reversed_padding(padding, kernel_size=IN_w)\\n\\n##############################################################################\\n# Define convolutional layer\\nconv = nnj.Conv2d(IN_c, OUT_c, kernel_size=kernel_size,padding=padding,stride=stride,dilation=dilation, bias=None)\\nassert list(conv.weight.shape) == [OUT_c, IN_c, kernel_size, kernel_size]\\n# Define input images. Compute output images\\ninputs = torch.randint(0, 10, (batch_size, IN_c, IN_h, IN_w)).type(torch.float)\\noutputs = conv(inputs)\\nassert list(outputs.shape) == [batch_size, OUT_c, OUT_h, OUT_w]\\nprint('conv: \\t\\t\\t weights',conv.weight.shape, '\\t- input',inputs.shape, '\\t- output',outputs.shape)\\n\\n# Define reversed convolutional layer (same operator as conv but with switched input/weights)\\nconv_dw = nnj.ConvTranspose2d(IN_c, batch_size, kernel_size=(IN_h,IN_w),padding=dw_padding,stride=stride,dilation=dilation, output_padding=0, bias=None) #kernel_size value initialization doesn't matter\\nreversed_inputs = torch.flip(inputs, [-2,-1]).movedim(0,1)\\nassert conv_dw.weight.shape == reversed_inputs.shape\\nconv_dw.weight = torch.nn.Parameter(reversed_inputs)\\ndw_outputs = torch.flip(conv_dw(conv.weight), [-2,-1]).movedim(0,1)\\nassert torch.max(dw_outputs - outputs) < 1e-5 #chek that the two operators are actually the same\\nprint('conv_dw: \\t\\t weights',conv_dw.weight.shape, '\\t- input',conv.weight.shape, '\\t- output',dw_outputs.shape)\\n\\n\\n\\n# Define transposed of convolutional layer\\nconv_transposed = nnj.ConvTranspose2d(OUT_c, IN_c, kernel_size=kernel_size,padding=padding,stride=stride,dilation=dilation, output_padding=output_padding, bias=None)\\nconv_transposed.weight = conv.weight\\nassert conv_transposed(outputs).shape == inputs.shape\\nprint('conv_transposed: \\t weights',conv_transposed.weight.shape, '\\t- input',outputs.shape, '\\t- output',conv_transposed(outputs).shape)\\n\\n# Define transposed reversed convolutional layer \\nconv_transposed_dw = nnj.Conv2d(OUT_c, batch_size, kernel_size=(OUT_h,OUT_w),padding=dw_reversed_padding,stride=stride,dilation=dilation, bias=None) #kernel_size value initialization doesn't matter\\nreversed_outputs = torch.flip(outputs, [-2,-1])\\nassert conv_transposed_dw.weight.shape == reversed_outputs.shape\\nconv_transposed_dw.weight = torch.nn.Parameter(reversed_outputs)\\nprint('conv_transposed_dw: \\t weights',conv_transposed_dw.weight.shape, '\\t- input',conv_transposed.weight.movedim(0,1).shape, '\\t- output', conv_transposed_dw(conv_transposed.weight.movedim(0,1)).movedim(0,1).shape)\\nassert torch.max(conv_transposed_dw(conv_transposed.weight.movedim(0,1)).movedim(0,1) - conv_transposed(outputs)) < 1e-5\\n\""
      ]
     },
     "execution_count": 2,
     "metadata": {},
     "output_type": "execute_result"
    }
   ],
   "source": [
    "'''\n",
    "def compute_output_edge(input_edge, kernel_size=1,padding=0,stride=1,dilation=1):\n",
    "    output_edge = ( input_edge - dilation*(kernel_size-1) + 2*padding -1 )/stride +1 #output edge can be not-integer if stride!=1\n",
    "    return int(output_edge)\n",
    "def compute_output_padding(input_edge, output_edge, kernel_size=1,padding=0,stride=1,dilation=1):\n",
    "    return input_edge - ((output_edge-1)*stride - 2*padding + dilation*(kernel_size-1) + 1)\n",
    "def compute_reversed_padding(padding, kernel_size=1):\n",
    "    return kernel_size - 1 - padding\n",
    "##############################################################################\n",
    "##############################################################################\n",
    "##############################################################################\n",
    "# Set parameters (free to change)\n",
    "\n",
    "batch_size = 2\n",
    "IN_c, OUT_c = 2, 2 #number of channels (for input and output)\n",
    "IN_h, IN_w = 5, 5 #number of pixels per input edges\n",
    "kernel_size = 3\n",
    "padding = 1\n",
    "stride = 1 #don't change me please, bad things will happen\n",
    "dilation = 1\n",
    "\n",
    "##############################################################################\n",
    "# Compute output sizes\n",
    "OUT_h, OUT_w = compute_output_edge(IN_h, kernel_size=kernel_size,padding=padding,stride=stride,dilation=dilation), compute_output_edge(IN_w, kernel_size=kernel_size,padding=padding,stride=stride,dilation=dilation)\n",
    "# Compute output padding for conv transpose\n",
    "assert compute_output_padding(IN_h, OUT_h, kernel_size=kernel_size,padding=padding,stride=stride,dilation=dilation) == compute_output_padding(IN_w, OUT_w, kernel_size=kernel_size,padding=padding,stride=stride,dilation=dilation)\n",
    "output_padding = compute_output_padding(IN_h, OUT_h, kernel_size=kernel_size,padding=padding,stride=stride,dilation=dilation)\n",
    "dw_padding = compute_reversed_padding(padding, kernel_size=kernel_size)\n",
    "dw_reversed_padding = compute_reversed_padding(padding, kernel_size=IN_w)\n",
    "\n",
    "##############################################################################\n",
    "# Define convolutional layer\n",
    "conv = nnj.Conv2d(IN_c, OUT_c, kernel_size=kernel_size,padding=padding,stride=stride,dilation=dilation, bias=None)\n",
    "assert list(conv.weight.shape) == [OUT_c, IN_c, kernel_size, kernel_size]\n",
    "# Define input images. Compute output images\n",
    "inputs = torch.randint(0, 10, (batch_size, IN_c, IN_h, IN_w)).type(torch.float)\n",
    "outputs = conv(inputs)\n",
    "assert list(outputs.shape) == [batch_size, OUT_c, OUT_h, OUT_w]\n",
    "print('conv: \\t\\t\\t weights',conv.weight.shape, '\\t- input',inputs.shape, '\\t- output',outputs.shape)\n",
    "\n",
    "# Define reversed convolutional layer (same operator as conv but with switched input/weights)\n",
    "conv_dw = nnj.ConvTranspose2d(IN_c, batch_size, kernel_size=(IN_h,IN_w),padding=dw_padding,stride=stride,dilation=dilation, output_padding=0, bias=None) #kernel_size value initialization doesn't matter\n",
    "reversed_inputs = torch.flip(inputs, [-2,-1]).movedim(0,1)\n",
    "assert conv_dw.weight.shape == reversed_inputs.shape\n",
    "conv_dw.weight = torch.nn.Parameter(reversed_inputs)\n",
    "dw_outputs = torch.flip(conv_dw(conv.weight), [-2,-1]).movedim(0,1)\n",
    "assert torch.max(dw_outputs - outputs) < 1e-5 #chek that the two operators are actually the same\n",
    "print('conv_dw: \\t\\t weights',conv_dw.weight.shape, '\\t- input',conv.weight.shape, '\\t- output',dw_outputs.shape)\n",
    "\n",
    "\n",
    "\n",
    "# Define transposed of convolutional layer\n",
    "conv_transposed = nnj.ConvTranspose2d(OUT_c, IN_c, kernel_size=kernel_size,padding=padding,stride=stride,dilation=dilation, output_padding=output_padding, bias=None)\n",
    "conv_transposed.weight = conv.weight\n",
    "assert conv_transposed(outputs).shape == inputs.shape\n",
    "print('conv_transposed: \\t weights',conv_transposed.weight.shape, '\\t- input',outputs.shape, '\\t- output',conv_transposed(outputs).shape)\n",
    "\n",
    "# Define transposed reversed convolutional layer \n",
    "conv_transposed_dw = nnj.Conv2d(OUT_c, batch_size, kernel_size=(OUT_h,OUT_w),padding=dw_reversed_padding,stride=stride,dilation=dilation, bias=None) #kernel_size value initialization doesn't matter\n",
    "reversed_outputs = torch.flip(outputs, [-2,-1])\n",
    "assert conv_transposed_dw.weight.shape == reversed_outputs.shape\n",
    "conv_transposed_dw.weight = torch.nn.Parameter(reversed_outputs)\n",
    "print('conv_transposed_dw: \\t weights',conv_transposed_dw.weight.shape, '\\t- input',conv_transposed.weight.movedim(0,1).shape, '\\t- output', conv_transposed_dw(conv_transposed.weight.movedim(0,1)).movedim(0,1).shape)\n",
    "assert torch.max(conv_transposed_dw(conv_transposed.weight.movedim(0,1)).movedim(0,1) - conv_transposed(outputs)) < 1e-5\n",
    "'''"
   ]
  },
  {
   "cell_type": "code",
   "execution_count": 126,
   "id": "38cdb9fa",
   "metadata": {},
   "outputs": [
    {
     "name": "stdout",
     "output_type": "stream",
     "text": [
      "conv: \t\t\t weights torch.Size([3, 2, 3, 3]) \t- input torch.Size([5, 2, 11, 20]) \t- output torch.Size([5, 3, 11, 20])\n",
      "conv_dw: \t\t weights torch.Size([2, 5, 11, 20]) \t- input torch.Size([3, 2, 3, 3]) \t- output torch.Size([5, 3, 11, 20])\n",
      "conv_transposed: \t weights torch.Size([3, 2, 3, 3]) \t- input torch.Size([5, 3, 11, 20]) \t- output torch.Size([5, 2, 11, 20])\n",
      "conv_transposed_dw: \t weights torch.Size([5, 3, 11, 20]) \t- input torch.Size([2, 3, 3, 3]) \t- output torch.Size([5, 2, 11, 20])\n"
     ]
    }
   ],
   "source": [
    "def compute_output_edge(input_edge, kernel_size=1,padding=0,stride=1,dilation=1):\n",
    "    output_edge = ( input_edge - dilation*(kernel_size-1) + 2*padding -1 )/stride +1 #output edge can be not-integer if stride!=1\n",
    "    return int(output_edge)\n",
    "def compute_output_padding(input_edge, output_edge, kernel_size=1,padding=0,stride=1,dilation=1):\n",
    "    return input_edge - ((output_edge-1)*stride - 2*padding + dilation*(kernel_size-1) + 1)\n",
    "def compute_reversed_padding(padding, kernel_size=1):\n",
    "    return kernel_size - 1 - padding\n",
    "##############################################################################\n",
    "##############################################################################\n",
    "##############################################################################\n",
    "# Set parameters (free to change)\n",
    "\n",
    "batch_size = 5\n",
    "IN_c, OUT_c = 2, 3 #number of channels (for input and output)\n",
    "IN_h, IN_w = 11, 20 #number of pixels per input edges\n",
    "kernel_h, kernel_w = 3, 3\n",
    "set_padding_for_shape_preserving = True\n",
    "if set_padding_for_shape_preserving:\n",
    "    assert kernel_h%2==1 and kernel_w%2==1\n",
    "    padding_h, padding_w = int((kernel_h-1)/2), int((kernel_w-1)/2)\n",
    "else:\n",
    "    padding_h, padding_w = 1, 1\n",
    "stride = 1 #don't change me please, bad things will happen\n",
    "dilation = 1\n",
    "\n",
    "##############################################################################\n",
    "# Compute output sizes\n",
    "OUT_h, OUT_w = compute_output_edge(IN_h, kernel_size=kernel_h, padding=padding_h, stride=stride, dilation=dilation), compute_output_edge(IN_w, kernel_size=kernel_w, padding=padding_w, stride=stride, dilation=dilation)\n",
    "# Compute output padding for conv transpose\n",
    "out_padding_h, out_padding_w = compute_output_padding(IN_h, OUT_h, kernel_size=kernel_h, padding=padding_h, stride=stride, dilation=dilation), compute_output_padding(IN_w, OUT_w, kernel_size=kernel_w, padding=padding_w, stride=stride, dilation=dilation)\n",
    "dw_padding_h, dw_padding_w = compute_reversed_padding(padding_h, kernel_size=kernel_h), compute_reversed_padding(padding_w, kernel_size=kernel_w)\n",
    "dw_reversed_padding_h, dw_reversed_padding_w = compute_reversed_padding(padding_h, kernel_size=IN_h), compute_reversed_padding(padding_w, kernel_size=IN_w)\n",
    "\n",
    "##############################################################################\n",
    "# Define convolutional layer\n",
    "conv = nnj.Conv2d(IN_c, \n",
    "                  OUT_c, \n",
    "                  kernel_size=(kernel_h, kernel_w), \n",
    "                  padding=(padding_h,padding_w), \n",
    "                  stride=stride, dilation=dilation, bias=None)\n",
    "assert list(conv.weight.shape) == [OUT_c, IN_c, kernel_h, kernel_w]\n",
    "# Define input images. Compute output images\n",
    "inputs = torch.randint(0, 10, (batch_size, IN_c, IN_h, IN_w)).type(torch.float)\n",
    "outputs = conv(inputs)\n",
    "assert list(outputs.shape) == [batch_size, OUT_c, OUT_h, OUT_w]\n",
    "print('conv: \\t\\t\\t weights',conv.weight.shape, '\\t- input',inputs.shape, '\\t- output',outputs.shape)\n",
    "\n",
    "# Define reversed convolutional layer (same operator as conv but with switched input/weights)\n",
    "conv_dw = nnj.ConvTranspose2d(IN_c, \n",
    "                              batch_size, \n",
    "                              kernel_size=(IN_h,IN_w), \n",
    "                              padding=(dw_padding_h,dw_padding_w), \n",
    "                              stride=stride, dilation=dilation, output_padding=0, bias=None)\n",
    "reversed_inputs = torch.flip(inputs, [-2,-1]).movedim(0,1)\n",
    "assert conv_dw.weight.shape == reversed_inputs.shape\n",
    "conv_dw.weight = torch.nn.Parameter(reversed_inputs)\n",
    "dw_outputs = torch.flip(conv_dw(conv.weight), [-2,-1]).movedim(0,1)\n",
    "assert torch.max(dw_outputs - outputs) < 1e-5 #chek that the two operators are actually the same\n",
    "print('conv_dw: \\t\\t weights',conv_dw.weight.shape, '\\t- input',conv.weight.shape, '\\t- output',dw_outputs.shape)\n",
    "\n",
    "\n",
    "\n",
    "# Define transposed of convolutional layer\n",
    "conv_transposed = nnj.ConvTranspose2d(OUT_c, \n",
    "                                      IN_c, \n",
    "                                      kernel_size=(kernel_h,kernel_w), \n",
    "                                      padding=(padding_h,padding_w), \n",
    "                                      stride=stride, dilation=dilation, bias=None, \n",
    "                                      output_padding=(out_padding_h,out_padding_w))\n",
    "conv_transposed.weight = conv.weight\n",
    "assert conv_transposed(outputs).shape == inputs.shape\n",
    "print('conv_transposed: \\t weights',conv_transposed.weight.shape, '\\t- input',outputs.shape, '\\t- output',conv_transposed(outputs).shape)\n",
    "\n",
    "# Define transposed reversed convolutional layer\n",
    "if out_padding_h!=0 or out_padding_w!=0:\n",
    "    ### WARNING: output_padding not supported by conv2d. If it is different from 0 then it won't work! \n",
    "    ### Only working case: Must set padding=half (that is shape preserving convolution)\n",
    "    ###                             that is padding = (kernel-1)/2\n",
    "    print(out_padding_h, out_padding_w)\n",
    "conv_transposed_dw = nnj.Conv2d(OUT_c, \n",
    "                                batch_size, \n",
    "                                kernel_size=(OUT_h,OUT_w),\n",
    "                                padding=(dw_reversed_padding_h,dw_reversed_padding_w),\n",
    "                                stride=stride, dilation=dilation, bias=None)\n",
    "reversed_outputs = torch.flip(outputs, [-2,-1])\n",
    "assert conv_transposed_dw.weight.shape == reversed_outputs.shape\n",
    "conv_transposed_dw.weight = torch.nn.Parameter(reversed_outputs)\n",
    "print('conv_transposed_dw: \\t weights',conv_transposed_dw.weight.shape, '\\t- input',conv_transposed.weight.movedim(0,1).shape, '\\t- output', conv_transposed_dw(conv_transposed.weight.movedim(0,1)).movedim(0,1).shape)\n",
    "assert torch.max(conv_transposed_dw(conv_transposed.weight.movedim(0,1)).movedim(0,1) - conv_transposed(outputs)) < 1e-5 #chek that the two operators are actually the same"
   ]
  },
  {
   "cell_type": "markdown",
   "id": "287d7e9d",
   "metadata": {},
   "source": [
    "# Jacobian of conv (wrt. input)"
   ]
  },
  {
   "cell_type": "code",
   "execution_count": 127,
   "id": "0df86123",
   "metadata": {},
   "outputs": [],
   "source": [
    "IN_size, OUT_size = IN_c*IN_h*IN_w, OUT_c*OUT_h*OUT_w\n",
    "\n",
    "# define base elements\n",
    "output_identity = torch.eye(IN_size).unsqueeze(0).expand(batch_size,-1,-1)\n",
    "output_identity = output_identity.reshape(batch_size, IN_c, IN_h, IN_w, IN_size)\n",
    "\n",
    "inp = torch.zeros(batch_size,IN_c,IN_h,IN_w)\n",
    "output = torch.zeros(batch_size,OUT_c,OUT_h,OUT_w)\n",
    "\n",
    "jacobian = conv._jacobian_mult(inp, output, output_identity)"
   ]
  },
  {
   "cell_type": "markdown",
   "id": "6234d92b",
   "metadata": {},
   "source": [
    "# Jacobian of conv (wrt. weights)"
   ]
  },
  {
   "cell_type": "code",
   "execution_count": 137,
   "id": "b9f5c216",
   "metadata": {},
   "outputs": [
    {
     "name": "stdout",
     "output_type": "stream",
     "text": [
      "torch.Size([3, 2, 3, 3]) torch.Size([3, 5, 11, 20]) torch.Size([3, 2, 3, 3, 54])\n",
      "conv_dw: weights torch.Size([2, 5, 11, 20]) - input torch.Size([3, 2, 3, 3]) - output torch.Size([5, 3, 11, 20])\n",
      "torch.Size([5, 3, 11, 20, 54])\n",
      "torch.Size([5, 660, 54])\n",
      "correct shape = (5, 660, 54)\n"
     ]
    }
   ],
   "source": [
    "# define base elements\n",
    "output_identity = torch.eye(OUT_c*IN_c*kernel_h*kernel_w)#.unsqueeze(0).expand(OUT_c*OUT_c,-1,-1)\n",
    "output_identity = output_identity.reshape(OUT_c,\n",
    "                                          IN_c,kernel_h,kernel_w, \n",
    "                                          OUT_c*IN_c*kernel_h*kernel_w)\n",
    "\n",
    "inp = torch.zeros(OUT_c,IN_c,kernel_h,kernel_w)\n",
    "assert inp.shape == conv.weight.shape\n",
    "output = torch.zeros(OUT_c,batch_size,OUT_h,OUT_w)\n",
    "print(inp.shape, output.shape, output_identity.shape)\n",
    "print('conv_dw: weights',conv_dw.weight.shape, '- input',conv.weight.shape, '- output',dw_outputs.shape)\n",
    "\n",
    "jacobian_dw = conv_dw._jacobian_mult(inp, output, output_identity)\n",
    "jacobian_dw = torch.flip(jacobian_dw, [-3, -2]).movedim(0,1)\n",
    "print(jacobian_dw.shape)\n",
    "jacobian_dw = jacobian_dw.reshape(batch_size, OUT_c*OUT_h*OUT_w, OUT_c*IN_c*kernel_h*kernel_w)\n",
    "print(jacobian_dw.shape)\n",
    "print(f\"correct shape = {batch_size, OUT_c * OUT_h * OUT_w, OUT_c*IN_c * kernel_h * kernel_w}\")\n"
   ]
  },
  {
   "cell_type": "markdown",
   "id": "c45bcba9",
   "metadata": {},
   "source": [
    "# Assess jacobian wrt weights comparing to row-by-row computation (single layer NN, for now)"
   ]
  },
  {
   "cell_type": "code",
   "execution_count": 129,
   "id": "2bb0cb4d",
   "metadata": {},
   "outputs": [
    {
     "name": "stdout",
     "output_type": "stream",
     "text": [
      "torch.Size([5, 54])\n",
      "torch.Size([5, 660, 54]) torch.Size([5, 660, 54])\n",
      "Pointwise max difference beetwen two methods = tensor(0., grad_fn=<MaxBackward1>)\n"
     ]
    },
    {
     "data": {
      "image/png": "[encoded data removed]",
      "text/plain": [
       "<Figure size 432x288 with 1 Axes>"
      ]
     },
     "metadata": {
      "needs_background": "light"
     },
     "output_type": "display_data"
    },
    {
     "data": {
      "image/png": "[encoded data removed]",
      "text/plain": [
       "<Figure size 432x288 with 1 Axes>"
      ]
     },
     "metadata": {
      "needs_background": "light"
     },
     "output_type": "display_data"
    }
   ],
   "source": [
    "from asdfghjkl.gradient import batch_gradient\n",
    "\n",
    "def _flatten_after_batch(tensor: torch.Tensor):\n",
    "    if tensor.ndim == 1:\n",
    "        return tensor.unsqueeze(-1)\n",
    "    else:\n",
    "        return tensor.flatten(start_dim=1)\n",
    "        \n",
    "def _get_batch_grad(model):\n",
    "    batch_grads = list()\n",
    "    for module in model.modules():\n",
    "        if hasattr(module, 'op_results'):\n",
    "            res = module.op_results['batch_grads']\n",
    "            if 'weight' in res:\n",
    "                batch_grads.append(_flatten_after_batch(res['weight']))\n",
    "            if 'bias' in res:\n",
    "                batch_grads.append(_flatten_after_batch(res['bias']))\n",
    "            if len(set(res.keys()) - {'weight', 'bias'}) > 0:\n",
    "                raise ValueError(f'Invalid parameter keys {res.keys()}')\n",
    "    return torch.cat(batch_grads, dim=1)\n",
    "\n",
    "'''def batch_gradient(model, loss_fn, inputs, targets):\n",
    "    with extend(model, OP_BATCH_GRADS):\n",
    "        model.zero_grad()\n",
    "        f = model(inputs)\n",
    "        loss = loss_fn(f, targets)\n",
    "        loss.backward()\n",
    "    return f'''\n",
    "    \n",
    "def jacobians(x, model, output_channel, output_h, output_w):\n",
    "    \"\"\"Compute Jacobians \\\\(\\\\nabla_\\\\theta f(x;\\\\theta)\\\\) at current parameter \\\\(\\\\theta\\\\)\n",
    "    using asdfghjkl's gradient per output dimension.\n",
    "    Parameters\n",
    "    ----------\n",
    "    x : torch.Tensor\n",
    "        input data `(batch, input_shape)` on compatible device with model.\n",
    "    Returns\n",
    "    -------\n",
    "    Js : torch.Tensor\n",
    "        Jacobians `(batch, parameters, outputs)`\n",
    "    f : torch.Tensor\n",
    "        output function `(batch, outputs)`\n",
    "    \"\"\"\n",
    "    Js = list()\n",
    "    for c in range(output_channel):\n",
    "        for i in range(output_h):\n",
    "            for j in range(output_w):\n",
    "                def loss_fn(outputs, targets):\n",
    "                    return outputs[:, c, i, j].sum()\n",
    "\n",
    "                f = batch_gradient(model, loss_fn, x, None).detach()\n",
    "                Jk = _get_batch_grad(model)\n",
    "\n",
    "                Js.append(Jk)\n",
    "    Js = torch.stack(Js, dim=1)\n",
    "    print(Jk.shape)\n",
    "    return Js, f\n",
    "\n",
    "#conv = nnj.Conv2d(1,1,kernel_size=kernel_size,padding=padding,stride=stride,dilation=dilation, bias=None)\n",
    "Js, _ = jacobians(inputs, conv, OUT_c, OUT_h, OUT_w)\n",
    "\n",
    "\n",
    "print(Js.shape, jacobian_dw.shape)\n",
    "print('Pointwise max difference beetwen two methods =',torch.max(jacobian_dw - Js))\n",
    "\n",
    "plt.imshow(Js[0, :220, :].detach().numpy())\n",
    "plt.show()\n",
    "\n",
    "plt.imshow(jacobian_dw[0, :220, :].detach().numpy())\n",
    "plt.show()"
   ]
  },
  {
   "cell_type": "markdown",
   "id": "823990a1",
   "metadata": {},
   "source": [
    "# J^T * tmp * J  --> FULL matrix (tmp) case"
   ]
  },
  {
   "cell_type": "code",
   "execution_count": 144,
   "id": "71b74111",
   "metadata": {},
   "outputs": [
    {
     "name": "stdout",
     "output_type": "stream",
     "text": [
      "torch.Size([5, 440, 440]) torch.Size([5, 440, 440])\n",
      "tensor(1.4305e-06, grad_fn=<MaxBackward1>)\n",
      "torch.Size([5, 3, 11, 20, 660])\n"
     ]
    },
    {
     "ename": "RuntimeError",
     "evalue": "shape '[2, 660, 5, 3, 3]' is invalid for input of size 11599500",
     "output_type": "error",
     "traceback": [
      "\u001b[0;31m---------------------------------------------------------------------------\u001b[0m",
      "\u001b[0;31mRuntimeError\u001b[0m                              Traceback (most recent call last)",
      "\u001b[0;32m/tmp/ipykernel_19458/655672936.py\u001b[0m in \u001b[0;36m<module>\u001b[0;34m\u001b[0m\n\u001b[1;32m     30\u001b[0m \u001b[0mtmpt_cols\u001b[0m \u001b[0;34m=\u001b[0m \u001b[0mtmp_rows\u001b[0m\u001b[0;34m\u001b[0m\u001b[0;34m\u001b[0m\u001b[0m\n\u001b[1;32m     31\u001b[0m \u001b[0mprint\u001b[0m\u001b[0;34m(\u001b[0m\u001b[0mtmpt_cols\u001b[0m\u001b[0;34m.\u001b[0m\u001b[0mshape\u001b[0m\u001b[0;34m)\u001b[0m\u001b[0;34m\u001b[0m\u001b[0;34m\u001b[0m\u001b[0m\n\u001b[0;32m---> 32\u001b[0;31m Jt_tmptt_cols = conv_transposed_dw._jacobian_mult(torch.zeros(IN_c, OUT_c, OUT_h, OUT_w), \n\u001b[0m\u001b[1;32m     33\u001b[0m                                                   \u001b[0mtorch\u001b[0m\u001b[0;34m.\u001b[0m\u001b[0mzeros\u001b[0m\u001b[0;34m(\u001b[0m\u001b[0mIN_c\u001b[0m\u001b[0;34m,\u001b[0m \u001b[0mbatch_size\u001b[0m\u001b[0;34m,\u001b[0m \u001b[0mkernel_h\u001b[0m\u001b[0;34m,\u001b[0m \u001b[0mkernel_w\u001b[0m\u001b[0;34m)\u001b[0m\u001b[0;34m,\u001b[0m\u001b[0;34m\u001b[0m\u001b[0;34m\u001b[0m\u001b[0m\n\u001b[1;32m     34\u001b[0m                                                   tmpt_cols)\n",
      "\u001b[0;32m~/LaplaceAE/stochman/stochman/nnj.py\u001b[0m in \u001b[0;36m_jacobian_mult\u001b[0;34m(self, x, val, jac_in)\u001b[0m\n\u001b[1;32m    153\u001b[0m         \u001b[0mc2\u001b[0m\u001b[0;34m,\u001b[0m \u001b[0mh2\u001b[0m\u001b[0;34m,\u001b[0m \u001b[0mw2\u001b[0m \u001b[0;34m=\u001b[0m \u001b[0mval\u001b[0m\u001b[0;34m.\u001b[0m\u001b[0mshape\u001b[0m\u001b[0;34m[\u001b[0m\u001b[0;36m1\u001b[0m\u001b[0;34m:\u001b[0m\u001b[0;34m]\u001b[0m\u001b[0;34m\u001b[0m\u001b[0;34m\u001b[0m\u001b[0m\n\u001b[1;32m    154\u001b[0m         return (\n\u001b[0;32m--> 155\u001b[0;31m             F.conv2d(\n\u001b[0m\u001b[1;32m    156\u001b[0m                 \u001b[0mjac_in\u001b[0m\u001b[0;34m.\u001b[0m\u001b[0mmovedim\u001b[0m\u001b[0;34m(\u001b[0m\u001b[0;34m(\u001b[0m\u001b[0;36m1\u001b[0m\u001b[0;34m,\u001b[0m \u001b[0;36m2\u001b[0m\u001b[0;34m,\u001b[0m \u001b[0;36m3\u001b[0m\u001b[0;34m)\u001b[0m\u001b[0;34m,\u001b[0m \u001b[0;34m(\u001b[0m\u001b[0;34m-\u001b[0m\u001b[0;36m3\u001b[0m\u001b[0;34m,\u001b[0m \u001b[0;34m-\u001b[0m\u001b[0;36m2\u001b[0m\u001b[0;34m,\u001b[0m \u001b[0;34m-\u001b[0m\u001b[0;36m1\u001b[0m\u001b[0;34m)\u001b[0m\u001b[0;34m)\u001b[0m\u001b[0;34m.\u001b[0m\u001b[0mreshape\u001b[0m\u001b[0;34m(\u001b[0m\u001b[0;34m-\u001b[0m\u001b[0;36m1\u001b[0m\u001b[0;34m,\u001b[0m \u001b[0mc1\u001b[0m\u001b[0;34m,\u001b[0m \u001b[0mh1\u001b[0m\u001b[0;34m,\u001b[0m \u001b[0mw1\u001b[0m\u001b[0;34m)\u001b[0m\u001b[0;34m,\u001b[0m\u001b[0;34m\u001b[0m\u001b[0;34m\u001b[0m\u001b[0m\n\u001b[1;32m    157\u001b[0m                 \u001b[0mweight\u001b[0m\u001b[0;34m=\u001b[0m\u001b[0mself\u001b[0m\u001b[0;34m.\u001b[0m\u001b[0mweight\u001b[0m\u001b[0;34m,\u001b[0m\u001b[0;34m\u001b[0m\u001b[0;34m\u001b[0m\u001b[0m\n",
      "\u001b[0;31mRuntimeError\u001b[0m: shape '[2, 660, 5, 3, 3]' is invalid for input of size 11599500"
     ]
    }
   ],
   "source": [
    "# wrt input \n",
    "tmp = torch.randint(0, 10, (batch_size, OUT_size, OUT_size)).type(torch.float)\n",
    "\n",
    "    #actual implementation.movedim(1,2\n",
    "tmp_rows = tmp.reshape(batch_size, OUT_c, OUT_h, OUT_w, OUT_size)\n",
    "tmpt_cols = tmp_rows\n",
    "Jt_tmptt_cols = conv_transposed._jacobian_mult(torch.zeros(batch_size, OUT_c, OUT_h, OUT_w), \n",
    "                                              torch.zeros(batch_size, IN_c, IN_h, IN_w), \n",
    "                                              tmpt_cols)\n",
    "Jt_tmptt_rows = Jt_tmptt_cols.reshape(batch_size,IN_size,OUT_size).movedim(1,2).reshape(batch_size,OUT_c,OUT_h,OUT_w,IN_size)\n",
    "tmp_J_cols = Jt_tmptt_rows\n",
    "Jt_tmp_J_cols = conv_transposed._jacobian_mult(torch.zeros(batch_size, OUT_c, OUT_h, OUT_w), \n",
    "                                              torch.zeros(batch_size, IN_c, IN_h, IN_w), \n",
    "                                              tmp_J_cols)\n",
    "Jt_tmp_J = Jt_tmp_J_cols.reshape(batch_size,IN_size,IN_size).movedim(1,2)\n",
    "\n",
    "\n",
    "jacobian = jacobian.reshape(batch_size,OUT_size,IN_size)\n",
    "slow_shit = torch.einsum('Bji,Bjk,Bkq->Biq',jacobian,tmp,jacobian)\n",
    "\n",
    "print(slow_shit.shape, Jt_tmp_J.shape)\n",
    "print(torch.max(slow_shit - Jt_tmp_J))\n",
    "37\n",
    "\n",
    "\n",
    "\n",
    "WE_size = kernel_h*kernel_w*IN_c*OUT_c\n",
    "#wrt weight\n",
    "tmp_rows = tmp.reshape(batch_size, OUT_c, OUT_h, OUT_w, OUT_size)\n",
    "tmpt_cols = tmp_rows\n",
    "print(tmpt_cols.shape)\n",
    "Jt_tmptt_cols = conv_transposed_dw._jacobian_mult(torch.zeros(IN_c, OUT_c, OUT_h, OUT_w), \n",
    "                                                  torch.zeros(IN_c, batch_size, kernel_h, kernel_w), \n",
    "                                                  tmpt_cols)\n",
    "Jt_tmptt_rows = Jt_tmptt_cols.reshape(batch_size,WE_size,OUT_size).movedim(1,2).reshape(batch_size,IN_c,IN_h,IN_w,OUT_size)\n",
    "tmp_J_cols = Jt_tmptt_rows\n",
    "Jt_tmp_J_cols = conv_transposed_dw._jacobian_mult(torch.zeros(batch_size, OUT_c, OUT_h, OUT_w), \n",
    "                                              torch.zeros(batch_size, IN_c, IN_h, IN_w), \n",
    "                                              tmp_J_cols)\n",
    "Jt_tmp_J = Jt_tmp_J_cols.reshape(batch_size,WE_size,WE_size).movedim(1,2)\n",
    "\n",
    "\n",
    "jacobian = jacobian.reshape(batch_size,OUT_size,IN_size)\n",
    "print(jacobian.shape)\n",
    "slow_shit = torch.einsum('Bji,Bjk,Bkq->Biq',jacobian_dw,tmp,jacobian_dw)\n",
    "\n",
    "print(slow_shit.shape, Jt_tmp_J.shape)\n",
    "print(torch.max(slow_shit - Jt_tmp_J))11599500 / \n"
   ]
  },
  {
   "cell_type": "code",
   "execution_count": 161,
   "id": "ba87836c",
   "metadata": {},
   "outputs": [
    {
     "data": {
      "text/plain": [
       "(torch.Size([5, 3, 11, 20, 660]), 2, 3, 11, 20)"
      ]
     },
     "execution_count": 161,
     "metadata": {},
     "output_type": "execute_result"
    }
   ],
   "source": [
    "tmp_rows.shape, IN_c, OUT_c, OUT_h, OUT_w"
   ]
  },
  {
   "cell_type": "code",
   "execution_count": 162,
   "id": "2501f25c",
   "metadata": {},
   "outputs": [
    {
     "data": {
      "text/plain": [
       "torch.Size([3300, 3, 11, 20])"
      ]
     },
     "execution_count": 162,
     "metadata": {},
     "output_type": "execute_result"
    }
   ],
   "source": [
    "tmpt_cols.movedim((1, 2, 3), (-3, -2, -1)).reshape(-1, OUT_c, OUT_h, OUT_w).shape"
   ]
  },
  {
   "cell_type": "code",
   "execution_count": 163,
   "id": "6b2bf851",
   "metadata": {},
   "outputs": [
    {
     "data": {
      "text/plain": [
       "torch.Size([3300, 5, 19, 37])"
      ]
     },
     "execution_count": 163,
     "metadata": {},
     "output_type": "execute_result"
    }
   ],
   "source": [
    "F.conv2d(\n",
    "    tmpt_cols.movedim((1, 2, 3), (-3, -2, -1)).reshape(-1, OUT_c, OUT_h, OUT_w),\n",
    "    weight=conv_transposed_dw.weight,\n",
    "    bias=None,\n",
    "    stride=conv_transposed_dw.stride,\n",
    "    padding=conv_transposed_dw.padding,\n",
    "    dilation=conv_transposed_dw.dilation,\n",
    "    groups=conv_transposed_dw.groups,\n",
    ").shape"
   ]
  },
  {
   "cell_type": "code",
   "execution_count": 147,
   "id": "9427690c",
   "metadata": {},
   "outputs": [
    {
     "data": {
      "text/plain": [
       "(3, 11, 20, torch.Size([3300, 3, 11, 20]))"
      ]
     },
     "execution_count": 147,
     "metadata": {},
     "output_type": "execute_result"
    }
   ],
   "source": [
    "OUT_c, OUT_h, OUT_w, tmpt_cols.movedim((1, 2, 3), (-3, -2, -1)).reshape(-1, OUT_c, OUT_h, OUT_w).shape"
   ]
  },
  {
   "cell_type": "code",
   "execution_count": 148,
   "id": "2f4b10ed",
   "metadata": {},
   "outputs": [
    {
     "data": {
      "text/plain": [
       "torch.Size([5, 3, 11, 20])"
      ]
     },
     "execution_count": 148,
     "metadata": {},
     "output_type": "execute_result"
    }
   ],
   "source": [
    "conv_transposed_dw.weight.shape"
   ]
  },
  {
   "cell_type": "code",
   "execution_count": 165,
   "id": "9bda436a",
   "metadata": {},
   "outputs": [
    {
     "data": {
      "text/plain": [
       "(9, 18)"
      ]
     },
     "execution_count": 165,
     "metadata": {},
     "output_type": "execute_result"
    }
   ],
   "source": [
    "conv_transposed_dw.padding37"
   ]
  },
  {
   "cell_type": "code",
   "execution_count": 146,
   "id": "678c34af",
   "metadata": {},
   "outputs": [
    {
     "data": {
      "text/plain": [
       "torch.Size([3300, 5, 19, 37])"
      ]
     },
     "execution_count": 146,
     "metadata": {},
     "output_type": "execute_result"
    }
   ],
   "source": [
    "\n",
    "F.conv2d(\n",
    "    tmpt_cols.movedim((1, 2, 3), (-3, -2, -1)).reshape(-1, OUT_c, OUT_h, OUT_w),\n",
    "    weight=conv_transposed_dw.weight,\n",
    "    bias=None,\n",
    "    stride=conv_transposed_dw.stride,\n",
    "    padding=conv_transposed_dw.padding,\n",
    "    dilation=conv_transposed_dw.dilation,\n",
    "    groups=conv_transposed_dw.groups,\n",
    ").shape"
   ]
  },
  {
   "cell_type": "markdown",
   "id": "4105a322",
   "metadata": {},
   "source": [
    "# J^T * tmp * J  --> DIAGONAL matrix (tmp) case"
   ]
  },
  {
   "cell_type": "code",
   "execution_count": 56,
   "id": "0b055cf6",
   "metadata": {},
   "outputs": [
    {
     "name": "stdout",
     "output_type": "stream",
     "text": [
      "tmp shape = torch.Size([2, 440, 440])\n",
      "jac shape = torch.Size([2, 440, 440])\n",
      "torch.Size([2, 440]) torch.Size([2, 440, 440])\n",
      "torch.Size([2, 440])\n",
      "Pointwise max difference beetwen two methods = tensor(4.7684e-07, grad_fn=<MaxBackward1>)\n"
     ]
    }
   ],
   "source": [
    "diag_tmp = torch.randint(1, 10, (batch_size, OUT_size)).type(torch.float)\n",
    "tmp = torch.diag_embed(diag_tmp, dim1=1)\n",
    "print('tmp shape =',tmp.shape)\n",
    "print('jac shape =',jacobian.shape)\n",
    "\n",
    "\n",
    "\n",
    "\n",
    "# SLOW IMPLEMENTATION (requires jacobian matrixes AND full tmp stored)\n",
    "slow_Jt_tmp_J = torch.einsum('Bji,Bjk,Bkq->Biq', jacobian, tmp, jacobian)\n",
    "slow_diag_Jt_tmp_J = torch.zeros_like(slow_Jt_tmp_J)\n",
    "for b in range(batch_size):\n",
    "    for i in range(IN_size):\n",
    "        slow_diag_Jt_tmp_J[b,i,i] = slow_Jt_tmp_J[b,i,i]\n",
    "\n",
    "\n",
    "#FAST IMPLEMENTATION (never access to tmp, only to diag_tmp)\n",
    "conv_sq = nnj.ConvTranspose2d(IN_c,\n",
    "                              OUT_c,\n",
    "                              kernel_size=(kernel_h,kernel_w),\n",
    "                              padding=(padding_h,padding_w),\n",
    "                              stride=stride,dilation=dilation, output_padding=0, bias=None)\n",
    "conv_sq.weight = torch.nn.Parameter(conv.weight**2)\n",
    "\n",
    "input_tmp = diag_tmp.reshape(batch_size,OUT_c,OUT_h,OUT_w)\n",
    "output_tmp = conv_sq._jacobian_mult(torch.zeros(batch_size, OUT_c,OUT_h,OUT_w), \n",
    "                                    torch.zeros(batch_size, IN_c, IN_h, IN_w), \n",
    "                                    input_tmp)\n",
    "diag_Jt_tmp_J = output_tmp.reshape(batch_size, IN_size)\n",
    "\n",
    "\n",
    "\n",
    "print(diag_Jt_tmp_J.shape, slow_diag_Jt_tmp_J.shape)\n",
    "print(torch.diagonal(slow_diag_Jt_tmp_J, dim1=1, dim2=2).shape)\n",
    "print('Pointwise max difference beetwen two methods =',torch.max(diag_Jt_tmp_J-torch.diagonal(slow_diag_Jt_tmp_J, dim1=1, dim2=2)))"
   ]
  },
  {
   "cell_type": "code",
   "execution_count": null,
   "id": "772939b5",
   "metadata": {},
   "outputs": [],
   "source": []
  },
  {
   "cell_type": "code",
   "execution_count": null,
   "id": "b33cb9c8",
   "metadata": {
    "collapsed": true
   },
   "outputs": [],
   "source": []
  }
 ],
 "metadata": {
  "kernelspec": {
   "display_name": "Python 3 (ipykernel)",
   "language": "python",
   "name": "python3"
  },
  "language_info": {
   "codemirror_mode": {
    "name": "ipython",
    "version": 3
   },
   "file_extension": ".py",
   "mimetype": "text/x-python",
   "name": "python",
   "nbconvert_exporter": "python",
   "pygments_lexer": "ipython3",
   "version": "3.8.5"
  }
 },
 "nbformat": 4,
 "nbformat_minor": 5
}

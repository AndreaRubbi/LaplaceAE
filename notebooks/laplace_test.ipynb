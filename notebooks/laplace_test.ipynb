{
 "cells": [
  {
   "cell_type": "code",
   "execution_count": 10,
   "metadata": {},
   "outputs": [
    {
     "name": "stdout",
     "output_type": "stream",
     "text": [
      "xy=(0, 0)\n",
      " f(x)=-2.08\n",
      " f'(x)=[2 0]\n",
      " f''(x)=[[-2  0]\n",
      " [ 0 -2]]\n",
      "xy_one = [1. 0.]\n",
      "xy=(1, 0)\n",
      " f(x)=-2.08\n",
      " f'(x)=[-4  2]\n",
      " f''(x)=[[-14   4]\n",
      " [  4  -2]]\n",
      "xy_one = [1. 1.]\n",
      "xy=(0, 1)\n",
      " f(x)=-3.08\n",
      " f'(x)=[ 2 -2]\n",
      " f''(x)=[[ 2  0]\n",
      " [ 0 -2]]\n",
      "xy_one = [-1.  0.]\n",
      "xy=(1, 1)\n",
      " f(x)=-1.08\n",
      " f'(x)=[0 0]\n",
      " f''(x)=[[-10   4]\n",
      " [  4  -2]]\n",
      "xy_one = [1. 1.]\n",
      "xy=(1, 2)\n",
      " f(x)=-2.08\n",
      " f'(x)=[ 4 -2]\n",
      " f''(x)=[[-6  4]\n",
      " [ 4 -2]]\n",
      "xy_one = [1. 1.]\n",
      "xy=(2, 2)\n",
      " f(x)=-6.08\n",
      " f'(x)=[-18   4]\n",
      " f''(x)=[[-42   8]\n",
      " [  8  -2]]\n",
      "xy_one = [1.8 3.2]\n",
      "xy=(2, 4)\n",
      " f(x)=-2.08\n",
      " f'(x)=[-2  0]\n",
      " f''(x)=[[-34   8]\n",
      " [  8  -2]]\n",
      "xy_one = [1.0000000e+00 8.8817842e-16]\n"
     ]
    },
    {
     "name": "stderr",
     "output_type": "stream",
     "text": [
      "/tmp/ipykernel_16283/4228029677.py:96: UserWarning: The following kwargs were not used by contour: 'label'\n",
      "  axs[0, ixy].contourf(x_mesh, y_mesh, np.exp(logPfunction_n(x_mesh, y_mesh)), label='True')\n",
      "/tmp/ipykernel_16283/4228029677.py:99: UserWarning: The following kwargs were not used by contour: 'label'\n",
      "  axs[1, ixy].contourf(x_mesh, y_mesh, laplace_Pfunction(x_mesh, y_mesh), label='Laplace')\n",
      "/tmp/ipykernel_16283/4228029677.py:94: RuntimeWarning: invalid value encountered in sqrt\n",
      "  return np.sqrt(np.linalg.det(logP_d2)/(2*np.pi**2)) * np.exp(0.5*np.einsum('i...,ij,j...->...', xy_diff, logP_d2, xy_diff))\n"
     ]
    },
    {
     "data": {
      "image/png": "[encoded data removed]",
      "text/plain": [
       "<Figure size 1440x360 with 14 Axes>"
      ]
     },
     "metadata": {
      "needs_background": "light"
     },
     "output_type": "display_data"
    }
   ],
   "source": [
    "import numpy as np\n",
    "import matplotlib.pyplot as plt\n",
    "\n",
    "onedimensional = False\n",
    "\n",
    "def random_function(a,b):\n",
    "    return lambda x: -x**2 + a*np.cos(x+b)\n",
    "def random_function_d1(a,b):\n",
    "    return lambda x: -2*x - a*np.sin(x+b)\n",
    "def random_function_d2(a,b):\n",
    "    return lambda x: -2 - a*np.cos(x+b)\n",
    "\n",
    "def rosenbrock(a,b):\n",
    "    return lambda x,y : -(a-x)**2 - b*(y-x**2)**2\n",
    "def rosenbrock_d1(a,b):\n",
    "    return lambda x,y: np.array([2*(a-x) + 4*b*x*(y-x**2),\n",
    "                                 -2*b*(y-x**2)] )\n",
    "def rosenbrock_d2(a,b):\n",
    "    return lambda x,y: np.array([[-2 + 4*b*(y-x**2) - 8*b*x**2,     4*b*x],\n",
    "                                 [4*b*x,                            -2*b ]])\n",
    "\n",
    "\n",
    "if onedimensional:\n",
    "    n_points_axis = 50\n",
    "    min_range_axis, max_range_axis = -5, 5  \n",
    "    a, b = 0, 0\n",
    "    logPfunction = random_function(a,b)\n",
    "    logPfunction_d1 = random_function_d1(a,b)\n",
    "    logPfunction_d2 = random_function_d2(a,b)\n",
    "\n",
    "    x_grid = np.linspace(min_range_axis, max_range_axis, n_points_axis, dtype=np.float32)\n",
    "    normalization = np.sum(np.exp(logPfunction(x_grid))) * (max_range_axis-min_range_axis) / n_points_axis\n",
    "    logPfunction_n = lambda x: logPfunction(x) - np.log(normalization)\n",
    "\n",
    "    x_zeros = [-2, -1, -0.5, 0, 0.5, 1, 2]\n",
    "    fig, axs = plt.subplots(2, len(x_zeros), sharex='col', sharey='row', figsize=(20,5))\n",
    "    for ix, x_zero in enumerate(x_zeros):\n",
    "        logP = logPfunction_n(x_zero)\n",
    "        logP_d1 = logPfunction_d1(x_zero)\n",
    "        logP_d2 = logPfunction_d2(x_zero)\n",
    "\n",
    "        x_one = x_zero - logP_d1/logP_d2\n",
    "        laplace_logPfunction = lambda x: logP - 0.5*logP_d1**2/logP_d2 + 0.5*logP_d2*(x-x_one)**2\n",
    "        laplace_Pfunction = lambda x: np.sqrt(-logP_d2/(2*np.pi)) * np.exp(0.5*logP_d2*(x-x_one)**2)\n",
    "\n",
    "        print(f\"x={x_zero}, f(x)={round(logP,2)}, f'(x)={round(logP_d1,2)}, f''(x)={round(logP_d2,2)} ---> x_one={round(x_one,2)}\")\n",
    "        axs[0, ix].plot(x_grid, logPfunction_n(x_grid), label='True')\n",
    "        axs[0, ix].plot(x_grid, laplace_logPfunction(x_grid), c='g', label='Laplace')\n",
    "        axs[0, ix].axvline(x=x_zero, c='g', alpha=0.5)\n",
    "        axs[0, ix].set_title('x = '+str(x_zero))\n",
    "        axs[1, ix].plot(x_grid, np.exp(logPfunction_n(x_grid)), label='True')\n",
    "        axs[1, ix].plot(x_grid, laplace_Pfunction(x_grid), c='g', label='Laplace')\n",
    "        axs[1, ix].axvline(x=x_zero, c='g', alpha=0.5)\n",
    "        if ix==0:\n",
    "            axs[0, ix].set_ylabel('log Probability')\n",
    "            axs[0, ix].legend()\n",
    "            axs[1, ix].set_ylabel('Probability')\n",
    "    fig.suptitle(f\"logP(x) = -x^2 + {a}*cos(x+{b})\")\n",
    "    fig.savefig(\"laplace_test/prob_function.png\")\n",
    "\n",
    "else:\n",
    "    n_points_axis = 50\n",
    "    min_range_Xaxis, max_range_Xaxis = -1, 3\n",
    "    min_range_Yaxis, max_range_Yaxis = -2, 6\n",
    "    a, b = 1, 1\n",
    "    logPfunction = rosenbrock(a,b)\n",
    "    logPfunction_d1 = rosenbrock_d1(a,b)\n",
    "    logPfunction_d2 = rosenbrock_d2(a,b)\n",
    "\n",
    "    x_grid = np.linspace(min_range_Xaxis, max_range_Xaxis, n_points_axis, dtype=np.float32)\n",
    "    y_grid = np.linspace(min_range_Yaxis, max_range_Yaxis, n_points_axis, dtype=np.float32)\n",
    "    x_mesh, y_mesh = np.meshgrid(x_grid, y_grid)\n",
    "    normalization = np.sum(np.exp(logPfunction(x_mesh,y_mesh))) * (max_range_Xaxis-min_range_Xaxis)*(max_range_Yaxis-min_range_Yaxis) / n_points_axis**2\n",
    "    logPfunction_n = lambda x,y: logPfunction(x,y) - np.log(normalization)\n",
    "\n",
    "    xy_zeros = [(0,0), (1,0), (0,1), (1,1), (1,2), (2,2), (2,4)]\n",
    "    fig, axs = plt.subplots(2, len(xy_zeros), sharex='col', sharey='row', figsize=(20,5))\n",
    "    for ixy, xy_zero in enumerate(xy_zeros):\n",
    "        logP = logPfunction_n(*xy_zero)\n",
    "        logP_d1 = logPfunction_d1(*xy_zero)\n",
    "        logP_d2 = logPfunction_d2(*xy_zero)\n",
    "        print(f\"xy={xy_zero}\\n f(x)={np.around(logP,2)}\\n f'(x)={np.around(logP_d1,2)}\\n f''(x)={np.around(logP_d2,2)}\")\n",
    "\n",
    "        logP_d2_inv = np.linalg.inv(logP_d2)\n",
    "        xy_one = xy_zero - logP_d2_inv @ logP_d1\n",
    "        print(f\"xy_one = {xy_one}\")\n",
    "\n",
    "        #laplace_Pfunction = lambda x,y: np.sqrt(np.linalg.det(logP_d2)/(2*np.pi**2)) * np.exp(0.5*(np.array([x,y])-xy_one).T @ logP_d2 @ (np.array([x,y])-xy_one) )\n",
    "        def laplace_Pfunction(x,y): \n",
    "            try:\n",
    "                xy_diff = (np.transpose([x,y],(2,1,0))-xy_one ).T\n",
    "            except:\n",
    "                xy_diff = [x,y] - xy_one\n",
    "            return np.sqrt(np.linalg.det(logP_d2)/(2*np.pi**2)) * np.exp(0.5*np.einsum('i...,ij,j...->...', xy_diff, logP_d2, xy_diff))\n",
    "\n",
    "        axs[0, ixy].contourf(x_mesh, y_mesh, np.exp(logPfunction_n(x_mesh, y_mesh)), label='True')\n",
    "        axs[0, ixy].plot(*xy_zero, 'r*')\n",
    "        axs[0, ixy].set_title(f\"(x,y) = {xy_zero}\")\n",
    "        axs[1, ixy].contourf(x_mesh, y_mesh, laplace_Pfunction(x_mesh, y_mesh), label='Laplace')\n",
    "        axs[1, ixy].plot(*xy_zero, 'r*')\n",
    "    axs[0, 0].set_ylabel('True Probability')\n",
    "    axs[1, 0].set_ylabel('Laplace Probability')\n",
    "    fig.suptitle(f\"logP(x) = -({a}-x)^2 - {b}*(y-x^2)^2\")\n",
    "    fig.savefig(\"laplace_test/2D_prob_function.png\")"
   ]
  },
  {
   "cell_type": "code",
   "execution_count": 119,
   "metadata": {},
   "outputs": [
    {
     "data": {
      "text/plain": [
       "27"
      ]
     },
     "execution_count": 119,
     "metadata": {},
     "output_type": "execute_result"
    }
   ],
   "source": [
    "A = np.array([[1,2],[3,4]])\n",
    "b = np.array([1,2])\n",
    "b.T@A@b"
   ]
  },
  {
   "cell_type": "code",
   "execution_count": 115,
   "metadata": {},
   "outputs": [
    {
     "data": {
      "text/plain": [
       "array([27, 27, 27, 27, 27, 27])"
      ]
     },
     "execution_count": 115,
     "metadata": {},
     "output_type": "execute_result"
    }
   ],
   "source": [
    "b = np.array([b,b,b,b,b,b])\n",
    "np.einsum('xi,ij,xj->x',b,A,b)"
   ]
  }
 ],
 "metadata": {
  "interpreter": {
   "hash": "807f41533c31398b865746bb38c4d144dcc96bff5ac9d04063e73ea7f0bb88cc"
  },
  "kernelspec": {
   "display_name": "Python 3.8.10 64-bit ('base': conda)",
   "language": "python",
   "name": "python3"
  },
  "language_info": {
   "codemirror_mode": {
    "name": "ipython",
    "version": 3
   },
   "file_extension": ".py",
   "mimetype": "text/x-python",
   "name": "python",
   "nbconvert_exporter": "python",
   "pygments_lexer": "ipython3",
   "version": "3.8.12"
  },
  "orig_nbformat": 4
 },
 "nbformat": 4,
 "nbformat_minor": 2
}

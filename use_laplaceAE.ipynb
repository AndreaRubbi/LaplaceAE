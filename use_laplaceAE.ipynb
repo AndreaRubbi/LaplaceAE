{
 "cells": [
  {
   "cell_type": "code",
   "execution_count": 1,
   "metadata": {},
   "outputs": [],
   "source": [
    "import argparse\n",
    "import json\n",
    "import os\n",
    "import time\n",
    "from copy import deepcopy\n",
    "from datetime import datetime\n",
    "from math import log, pi, sqrt\n",
    "import sys"
   ]
  },
  {
   "cell_type": "code",
   "execution_count": 2,
   "metadata": {},
   "outputs": [],
   "source": [
    "import numpy as np\n",
    "import pytorch_lightning as pl\n",
    "import torch\n",
    "import torch.nn.functional as F\n",
    "import torchvision\n",
    "import yaml\n",
    "from pytorch_lightning.callbacks import LearningRateMonitor\n",
    "from pytorch_lightning.callbacks.early_stopping import EarlyStopping\n",
    "from pytorch_lightning.loggers import TensorBoardLogger\n",
    "from torch import nn\n",
    "from torch.nn import functional as F\n",
    "from torch.nn.utils import parameters_to_vector, vector_to_parameters\n",
    "from tqdm import tqdm"
   ]
  },
  {
   "cell_type": "code",
   "execution_count": 4,
   "metadata": {},
   "outputs": [
    {
     "ename": "ImportError",
     "evalue": "cannot import name '_grad_input_padding' from 'torch.nn.grad' (x:\\miniforge\\lib\\site-packages\\torch\\nn\\grad.py)",
     "output_type": "error",
     "traceback": [
      "\u001b[1;31m---------------------------------------------------------------------------\u001b[0m",
      "\u001b[1;31mImportError\u001b[0m                               Traceback (most recent call last)",
      "Cell \u001b[1;32mIn[4], line 2\u001b[0m\n\u001b[0;32m      1\u001b[0m \u001b[38;5;28;01mfrom\u001b[39;00m \u001b[38;5;21;01mdata\u001b[39;00m \u001b[38;5;28;01mimport\u001b[39;00m generate_latent_grid, get_data\n\u001b[1;32m----> 2\u001b[0m \u001b[38;5;28;01mfrom\u001b[39;00m \u001b[38;5;21;01mlaplace\u001b[39;00m\u001b[38;5;21;01m.\u001b[39;00m\u001b[38;5;21;01monlinelaplace\u001b[39;00m \u001b[38;5;28;01mimport\u001b[39;00m OnlineLaplace\n\u001b[0;32m      3\u001b[0m \u001b[38;5;28;01mfrom\u001b[39;00m \u001b[38;5;21;01mlaplace\u001b[39;00m\u001b[38;5;21;01m.\u001b[39;00m\u001b[38;5;21;01mposthoclaplace\u001b[39;00m \u001b[38;5;28;01mimport\u001b[39;00m PosthocLaplace\n\u001b[0;32m      4\u001b[0m \u001b[38;5;28;01mfrom\u001b[39;00m \u001b[38;5;21;01mmodels\u001b[39;00m \u001b[38;5;28;01mimport\u001b[39;00m get_decoder, get_encoder\n",
      "File \u001b[1;32mc:\\Users\\andre\\OneDrive - University of Cambridge\\Desktop\\LaplaceAE\\src\\laplace\\onlinelaplace.py:2\u001b[0m\n\u001b[0;32m      1\u001b[0m \u001b[38;5;28;01mfrom\u001b[39;00m \u001b[38;5;21;01mhessian\u001b[39;00m \u001b[38;5;28;01mimport\u001b[39;00m layerwise \u001b[38;5;28;01mas\u001b[39;00m lw\n\u001b[1;32m----> 2\u001b[0m \u001b[38;5;28;01mfrom\u001b[39;00m \u001b[38;5;21;01mhessian\u001b[39;00m \u001b[38;5;28;01mimport\u001b[39;00m backpack \u001b[38;5;28;01mas\u001b[39;00m bp\n\u001b[0;32m      3\u001b[0m \u001b[38;5;28;01mfrom\u001b[39;00m \u001b[38;5;21;01mbackpack\u001b[39;00m \u001b[38;5;28;01mimport\u001b[39;00m extend\n\u001b[0;32m      4\u001b[0m \u001b[38;5;28;01mfrom\u001b[39;00m \u001b[38;5;21;01mtorch\u001b[39;00m\u001b[38;5;21;01m.\u001b[39;00m\u001b[38;5;21;01mnn\u001b[39;00m\u001b[38;5;21;01m.\u001b[39;00m\u001b[38;5;21;01mutils\u001b[39;00m \u001b[38;5;28;01mimport\u001b[39;00m parameters_to_vector, vector_to_parameters\n",
      "File \u001b[1;32mc:\\Users\\andre\\OneDrive - University of Cambridge\\Desktop\\LaplaceAE\\src\\hessian\\backpack.py:8\u001b[0m\n\u001b[0;32m      4\u001b[0m \u001b[38;5;28;01mimport\u001b[39;00m \u001b[38;5;21;01msys\u001b[39;00m\n\u001b[0;32m      6\u001b[0m sys\u001b[38;5;241m.\u001b[39mpath\u001b[38;5;241m.\u001b[39mappend(\u001b[38;5;124m\"\u001b[39m\u001b[38;5;124m../../backpack\u001b[39m\u001b[38;5;124m\"\u001b[39m)\n\u001b[1;32m----> 8\u001b[0m \u001b[38;5;28;01mfrom\u001b[39;00m \u001b[38;5;21;01mbackpack\u001b[39;00m \u001b[38;5;28;01mimport\u001b[39;00m backpack, extend, memory_cleanup\n\u001b[0;32m      9\u001b[0m \u001b[38;5;28;01mfrom\u001b[39;00m \u001b[38;5;21;01mbackpack\u001b[39;00m\u001b[38;5;21;01m.\u001b[39;00m\u001b[38;5;21;01mextensions\u001b[39;00m \u001b[38;5;28;01mimport\u001b[39;00m (\n\u001b[0;32m     10\u001b[0m     DiagGGNExact,\n\u001b[0;32m     11\u001b[0m     DiagGGNMC,\n\u001b[1;32m   (...)\u001b[0m\n\u001b[0;32m     15\u001b[0m     BatchGrad,\n\u001b[0;32m     16\u001b[0m )\n\u001b[0;32m     17\u001b[0m \u001b[38;5;28;01mfrom\u001b[39;00m \u001b[38;5;21;01mbackpack\u001b[39;00m\u001b[38;5;21;01m.\u001b[39;00m\u001b[38;5;21;01mcontext\u001b[39;00m \u001b[38;5;28;01mimport\u001b[39;00m CTX\n",
      "File \u001b[1;32mx:\\miniforge\\lib\\site-packages\\backpack\\__init__.py:10\u001b[0m\n\u001b[0;32m      7\u001b[0m \u001b[38;5;28;01mfrom\u001b[39;00m \u001b[38;5;21;01mtorch\u001b[39;00m\u001b[38;5;21;01m.\u001b[39;00m\u001b[38;5;21;01mfx\u001b[39;00m \u001b[38;5;28;01mimport\u001b[39;00m GraphModule\n\u001b[0;32m      8\u001b[0m \u001b[38;5;28;01mfrom\u001b[39;00m \u001b[38;5;21;01mtorch\u001b[39;00m\u001b[38;5;21;01m.\u001b[39;00m\u001b[38;5;21;01mnn\u001b[39;00m \u001b[38;5;28;01mimport\u001b[39;00m Module\n\u001b[1;32m---> 10\u001b[0m \u001b[38;5;28;01mfrom\u001b[39;00m \u001b[38;5;21;01mbackpack\u001b[39;00m \u001b[38;5;28;01mimport\u001b[39;00m extensions\n\u001b[0;32m     11\u001b[0m \u001b[38;5;28;01mfrom\u001b[39;00m \u001b[38;5;21;01mbackpack\u001b[39;00m\u001b[38;5;21;01m.\u001b[39;00m\u001b[38;5;21;01mcontext\u001b[39;00m \u001b[38;5;28;01mimport\u001b[39;00m CTX\n\u001b[0;32m     12\u001b[0m \u001b[38;5;28;01mfrom\u001b[39;00m \u001b[38;5;21;01mbackpack\u001b[39;00m\u001b[38;5;21;01m.\u001b[39;00m\u001b[38;5;21;01mcustom_module\u001b[39;00m\u001b[38;5;21;01m.\u001b[39;00m\u001b[38;5;21;01mgraph_utils\u001b[39;00m \u001b[38;5;28;01mimport\u001b[39;00m convert_module_to_backpack\n",
      "File \u001b[1;32mx:\\miniforge\\lib\\site-packages\\backpack\\extensions\\__init__.py:3\u001b[0m\n\u001b[0;32m      1\u001b[0m \u001b[38;5;124;03m\"\"\"BackPACK extensions that can be passed into a ``with backpack(...)`` context.\"\"\"\u001b[39;00m\n\u001b[1;32m----> 3\u001b[0m \u001b[38;5;28;01mfrom\u001b[39;00m \u001b[38;5;21;01m.\u001b[39;00m\u001b[38;5;21;01mcurvmatprod\u001b[39;00m \u001b[38;5;28;01mimport\u001b[39;00m GGNMP, HMP, PCHMP\n\u001b[0;32m      4\u001b[0m \u001b[38;5;28;01mfrom\u001b[39;00m \u001b[38;5;21;01m.\u001b[39;00m\u001b[38;5;21;01mfirstorder\u001b[39;00m \u001b[38;5;28;01mimport\u001b[39;00m BatchGrad, BatchL2Grad, SumGradSquared, Variance\n\u001b[0;32m      5\u001b[0m \u001b[38;5;28;01mfrom\u001b[39;00m \u001b[38;5;21;01m.\u001b[39;00m\u001b[38;5;21;01msecondorder\u001b[39;00m \u001b[38;5;28;01mimport\u001b[39;00m (\n\u001b[0;32m      6\u001b[0m     HBP,\n\u001b[0;32m      7\u001b[0m     KFAC,\n\u001b[1;32m   (...)\u001b[0m\n\u001b[0;32m     17\u001b[0m     SqrtGGNMC,\n\u001b[0;32m     18\u001b[0m )\n",
      "File \u001b[1;32mx:\\miniforge\\lib\\site-packages\\backpack\\extensions\\curvmatprod\\__init__.py:24\u001b[0m\n\u001b[0;32m      1\u001b[0m \u001b[38;5;124;03m\"\"\"Block-diagonal curvature products\u001b[39;00m\n\u001b[0;32m      2\u001b[0m \u001b[38;5;124;03m====================================\u001b[39;00m\n\u001b[0;32m      3\u001b[0m \n\u001b[1;32m   (...)\u001b[0m\n\u001b[0;32m     20\u001b[0m \u001b[38;5;124;03m  by Felix Dangel, Stefan Harmeling, Philipp Hennig, 2020.\u001b[39;00m\n\u001b[0;32m     21\u001b[0m \u001b[38;5;124;03m\"\"\"\u001b[39;00m\n\u001b[1;32m---> 24\u001b[0m \u001b[38;5;28;01mfrom\u001b[39;00m \u001b[38;5;21;01m.\u001b[39;00m\u001b[38;5;21;01mggnmp\u001b[39;00m \u001b[38;5;28;01mimport\u001b[39;00m GGNMP\n\u001b[0;32m     25\u001b[0m \u001b[38;5;28;01mfrom\u001b[39;00m \u001b[38;5;21;01m.\u001b[39;00m\u001b[38;5;21;01mhmp\u001b[39;00m \u001b[38;5;28;01mimport\u001b[39;00m HMP\n\u001b[0;32m     26\u001b[0m \u001b[38;5;28;01mfrom\u001b[39;00m \u001b[38;5;21;01m.\u001b[39;00m\u001b[38;5;21;01mpchmp\u001b[39;00m \u001b[38;5;28;01mimport\u001b[39;00m PCHMP\n",
      "File \u001b[1;32mx:\\miniforge\\lib\\site-packages\\backpack\\extensions\\curvmatprod\\ggnmp\\__init__.py:23\u001b[0m\n\u001b[0;32m      5\u001b[0m \u001b[38;5;28;01mfrom\u001b[39;00m \u001b[38;5;21;01mtorch\u001b[39;00m\u001b[38;5;21;01m.\u001b[39;00m\u001b[38;5;21;01mnn\u001b[39;00m \u001b[38;5;28;01mimport\u001b[39;00m (\n\u001b[0;32m      6\u001b[0m     AvgPool2d,\n\u001b[0;32m      7\u001b[0m     BatchNorm1d,\n\u001b[1;32m   (...)\u001b[0m\n\u001b[0;32m     18\u001b[0m     ZeroPad2d,\n\u001b[0;32m     19\u001b[0m )\n\u001b[0;32m     21\u001b[0m \u001b[38;5;28;01mfrom\u001b[39;00m \u001b[38;5;21;01mbackpack\u001b[39;00m\u001b[38;5;21;01m.\u001b[39;00m\u001b[38;5;21;01mextensions\u001b[39;00m\u001b[38;5;21;01m.\u001b[39;00m\u001b[38;5;21;01msecondorder\u001b[39;00m\u001b[38;5;21;01m.\u001b[39;00m\u001b[38;5;21;01mbase\u001b[39;00m \u001b[38;5;28;01mimport\u001b[39;00m SecondOrderBackpropExtension\n\u001b[1;32m---> 23\u001b[0m \u001b[38;5;28;01mfrom\u001b[39;00m \u001b[38;5;21;01m.\u001b[39;00m \u001b[38;5;28;01mimport\u001b[39;00m (\n\u001b[0;32m     24\u001b[0m     activations,\n\u001b[0;32m     25\u001b[0m     batchnorm1d,\n\u001b[0;32m     26\u001b[0m     conv2d,\n\u001b[0;32m     27\u001b[0m     dropout,\n\u001b[0;32m     28\u001b[0m     flatten,\n\u001b[0;32m     29\u001b[0m     linear,\n\u001b[0;32m     30\u001b[0m     losses,\n\u001b[0;32m     31\u001b[0m     padding,\n\u001b[0;32m     32\u001b[0m     pooling,\n\u001b[0;32m     33\u001b[0m )\n\u001b[0;32m     36\u001b[0m \u001b[38;5;28;01mclass\u001b[39;00m \u001b[38;5;21;01mGGNMP\u001b[39;00m(SecondOrderBackpropExtension):\n\u001b[0;32m     37\u001b[0m \u001b[38;5;250m    \u001b[39m\u001b[38;5;124;03m\"\"\"\u001b[39;00m\n\u001b[0;32m     38\u001b[0m \u001b[38;5;124;03m    Matrix-free Multiplication with the block-diagonal generalized Gauss-Newton/Fisher.\u001b[39;00m\n\u001b[0;32m     39\u001b[0m \n\u001b[1;32m   (...)\u001b[0m\n\u001b[0;32m     44\u001b[0m \u001b[38;5;124;03m    with the block-diagonal GGN/Fisher.\u001b[39;00m\n\u001b[0;32m     45\u001b[0m \u001b[38;5;124;03m    \"\"\"\u001b[39;00m\n",
      "File \u001b[1;32mx:\\miniforge\\lib\\site-packages\\backpack\\extensions\\curvmatprod\\ggnmp\\conv2d.py:1\u001b[0m\n\u001b[1;32m----> 1\u001b[0m \u001b[38;5;28;01mfrom\u001b[39;00m \u001b[38;5;21;01mbackpack\u001b[39;00m\u001b[38;5;21;01m.\u001b[39;00m\u001b[38;5;21;01mcore\u001b[39;00m\u001b[38;5;21;01m.\u001b[39;00m\u001b[38;5;21;01mderivatives\u001b[39;00m\u001b[38;5;21;01m.\u001b[39;00m\u001b[38;5;21;01mconv2d\u001b[39;00m \u001b[38;5;28;01mimport\u001b[39;00m Conv2DDerivatives\n\u001b[0;32m      2\u001b[0m \u001b[38;5;28;01mfrom\u001b[39;00m \u001b[38;5;21;01mbackpack\u001b[39;00m\u001b[38;5;21;01m.\u001b[39;00m\u001b[38;5;21;01mextensions\u001b[39;00m\u001b[38;5;21;01m.\u001b[39;00m\u001b[38;5;21;01mcurvmatprod\u001b[39;00m\u001b[38;5;21;01m.\u001b[39;00m\u001b[38;5;21;01mggnmp\u001b[39;00m\u001b[38;5;21;01m.\u001b[39;00m\u001b[38;5;21;01mggnmpbase\u001b[39;00m \u001b[38;5;28;01mimport\u001b[39;00m GGNMPBase\n\u001b[0;32m      5\u001b[0m \u001b[38;5;28;01mclass\u001b[39;00m \u001b[38;5;21;01mGGNMPConv2d\u001b[39;00m(GGNMPBase):\n",
      "File \u001b[1;32mx:\\miniforge\\lib\\site-packages\\backpack\\core\\derivatives\\conv2d.py:1\u001b[0m\n\u001b[1;32m----> 1\u001b[0m \u001b[38;5;28;01mfrom\u001b[39;00m \u001b[38;5;21;01mbackpack\u001b[39;00m\u001b[38;5;21;01m.\u001b[39;00m\u001b[38;5;21;01mcore\u001b[39;00m\u001b[38;5;21;01m.\u001b[39;00m\u001b[38;5;21;01mderivatives\u001b[39;00m\u001b[38;5;21;01m.\u001b[39;00m\u001b[38;5;21;01mconvnd\u001b[39;00m \u001b[38;5;28;01mimport\u001b[39;00m ConvNDDerivatives\n\u001b[0;32m      4\u001b[0m \u001b[38;5;28;01mclass\u001b[39;00m \u001b[38;5;21;01mConv2DDerivatives\u001b[39;00m(ConvNDDerivatives):\n\u001b[0;32m      5\u001b[0m     \u001b[38;5;28;01mdef\u001b[39;00m \u001b[38;5;21m__init__\u001b[39m(\u001b[38;5;28mself\u001b[39m):\n",
      "File \u001b[1;32mx:\\miniforge\\lib\\site-packages\\backpack\\core\\derivatives\\convnd.py:8\u001b[0m\n\u001b[0;32m      6\u001b[0m \u001b[38;5;28;01mfrom\u001b[39;00m \u001b[38;5;21;01mtorch\u001b[39;00m \u001b[38;5;28;01mimport\u001b[39;00m Tensor, einsum\n\u001b[0;32m      7\u001b[0m \u001b[38;5;28;01mfrom\u001b[39;00m \u001b[38;5;21;01mtorch\u001b[39;00m\u001b[38;5;21;01m.\u001b[39;00m\u001b[38;5;21;01mnn\u001b[39;00m \u001b[38;5;28;01mimport\u001b[39;00m Conv1d, Conv2d, Conv3d, Module\n\u001b[1;32m----> 8\u001b[0m \u001b[38;5;28;01mfrom\u001b[39;00m \u001b[38;5;21;01mtorch\u001b[39;00m\u001b[38;5;21;01m.\u001b[39;00m\u001b[38;5;21;01mnn\u001b[39;00m\u001b[38;5;21;01m.\u001b[39;00m\u001b[38;5;21;01mgrad\u001b[39;00m \u001b[38;5;28;01mimport\u001b[39;00m _grad_input_padding\n\u001b[0;32m     10\u001b[0m \u001b[38;5;28;01mfrom\u001b[39;00m \u001b[38;5;21;01mbackpack\u001b[39;00m\u001b[38;5;21;01m.\u001b[39;00m\u001b[38;5;21;01mcore\u001b[39;00m\u001b[38;5;21;01m.\u001b[39;00m\u001b[38;5;21;01mderivatives\u001b[39;00m\u001b[38;5;21;01m.\u001b[39;00m\u001b[38;5;21;01mbasederivatives\u001b[39;00m \u001b[38;5;28;01mimport\u001b[39;00m BaseParameterDerivatives\n\u001b[0;32m     11\u001b[0m \u001b[38;5;28;01mfrom\u001b[39;00m \u001b[38;5;21;01mbackpack\u001b[39;00m\u001b[38;5;21;01m.\u001b[39;00m\u001b[38;5;21;01mutils\u001b[39;00m\u001b[38;5;21;01m.\u001b[39;00m\u001b[38;5;21;01mconv\u001b[39;00m \u001b[38;5;28;01mimport\u001b[39;00m get_conv_function, unfold_by_conv\n",
      "\u001b[1;31mImportError\u001b[0m: cannot import name '_grad_input_padding' from 'torch.nn.grad' (x:\\miniforge\\lib\\site-packages\\torch\\nn\\grad.py)"
     ]
    }
   ],
   "source": [
    "from data import generate_latent_grid, get_data\n",
    "from laplace.onlinelaplace import OnlineLaplace\n",
    "from laplace.posthoclaplace import PosthocLaplace\n",
    "from models import get_decoder, get_encoder\n",
    "from utils import compute_typicality_score, create_exp_name\n",
    "from visualizer import (compute_and_plot_roc_curves, plot_calibration_plot,\n",
    "                        plot_latent_space, plot_latent_space_ood,\n",
    "                        plot_ood_distributions, plot_reconstructions,\n",
    "                        save_metric)"
   ]
  },
  {
   "cell_type": "code",
   "execution_count": 5,
   "metadata": {},
   "outputs": [],
   "source": [
    "config = {\n",
    "    # Experiment name\n",
    "    'exp_name': \"ood_experiment/\",\n",
    "\n",
    "    # Training settings\n",
    "    'train': False,\n",
    "    'posthoc': False,\n",
    "    'alpha': 0,\n",
    "    'train_samples': 1,\n",
    "    'prior_precision': 1,\n",
    "\n",
    "    # Test settings\n",
    "    'ood': True,\n",
    "    'test_samples': 100,\n",
    "\n",
    "    # Data settings\n",
    "    'dataset': \"mnist\",\n",
    "    'ood_dataset': \"kmnist\",\n",
    "    'batch_size': 50,\n",
    "\n",
    "    # Model settings\n",
    "    'pretrained': False,\n",
    "    'no_conv': True,\n",
    "    'latent_size': 2,\n",
    "\n",
    "    # Hessian settings\n",
    "    'backend': \"layer\",\n",
    "    'approximation': \"exact\",  # options: block, exact, diag, mix\n",
    "    'hessian_memory_factor': 0.999,\n",
    "    'one_hessian_per_sampling': False,\n",
    "    'update_hessian': True,\n",
    "    'hessian_scale': 1\n",
    "}\n"
   ]
  },
  {
   "cell_type": "code",
   "execution_count": 6,
   "metadata": {},
   "outputs": [
    {
     "name": "stdout",
     "output_type": "stream",
     "text": [
      "{\n",
      "    \"exp_name\": \"ood_experiment/\",\n",
      "    \"train\": false,\n",
      "    \"posthoc\": false,\n",
      "    \"alpha\": 0,\n",
      "    \"train_samples\": 1,\n",
      "    \"prior_precision\": 1,\n",
      "    \"ood\": true,\n",
      "    \"test_samples\": 100,\n",
      "    \"dataset\": \"mnist\",\n",
      "    \"ood_dataset\": \"kmnist\",\n",
      "    \"batch_size\": 50,\n",
      "    \"pretrained\": false,\n",
      "    \"no_conv\": true,\n",
      "    \"latent_size\": 2,\n",
      "    \"backend\": \"layer\",\n",
      "    \"approximation\": \"exact\",\n",
      "    \"hessian_memory_factor\": 0.999,\n",
      "    \"one_hessian_per_sampling\": false,\n",
      "    \"update_hessian\": true,\n",
      "    \"hessian_scale\": 1\n",
      "}\n"
     ]
    },
    {
     "ename": "NameError",
     "evalue": "name 'create_exp_name' is not defined",
     "output_type": "error",
     "traceback": [
      "\u001b[1;31m---------------------------------------------------------------------------\u001b[0m",
      "\u001b[1;31mNameError\u001b[0m                                 Traceback (most recent call last)",
      "Cell \u001b[1;32mIn[6], line 2\u001b[0m\n\u001b[0;32m      1\u001b[0m \u001b[38;5;28mprint\u001b[39m(json\u001b[38;5;241m.\u001b[39mdumps(config, indent\u001b[38;5;241m=\u001b[39m\u001b[38;5;241m4\u001b[39m))\n\u001b[1;32m----> 2\u001b[0m config[\u001b[38;5;124m\"\u001b[39m\u001b[38;5;124mexp_name\u001b[39m\u001b[38;5;124m\"\u001b[39m] \u001b[38;5;241m=\u001b[39m \u001b[43mcreate_exp_name\u001b[49m(config)\n\u001b[0;32m      3\u001b[0m \u001b[38;5;28mprint\u001b[39m(config[\u001b[38;5;124m\"\u001b[39m\u001b[38;5;124mexp_name\u001b[39m\u001b[38;5;124m\"\u001b[39m])\n",
      "\u001b[1;31mNameError\u001b[0m: name 'create_exp_name' is not defined"
     ]
    }
   ],
   "source": [
    "print(json.dumps(config, indent=4))\n",
    "config[\"exp_name\"] = create_exp_name(config)\n",
    "print(config[\"exp_name\"])"
   ]
  },
  {
   "cell_type": "code",
   "execution_count": null,
   "metadata": {},
   "outputs": [],
   "source": [
    "\n",
    "# train or load auto encoder\n",
    "if config[\"train\"] and not config[\"posthoc\"]:\n",
    "    train_lae(config)\n",
    "\n",
    "# fit laplace approximation post-hoc\n",
    "elif config[\"train\"] and config[\"posthoc\"]:\n",
    "    fit_lae(config)\n",
    "\n",
    "test_lae(config)"
   ]
  }
 ],
 "metadata": {
  "kernelspec": {
   "display_name": "base",
   "language": "python",
   "name": "python3"
  },
  "language_info": {
   "codemirror_mode": {
    "name": "ipython",
    "version": 3
   },
   "file_extension": ".py",
   "mimetype": "text/x-python",
   "name": "python",
   "nbconvert_exporter": "python",
   "pygments_lexer": "ipython3",
   "version": "3.10.13"
  }
 },
 "nbformat": 4,
 "nbformat_minor": 2
}
